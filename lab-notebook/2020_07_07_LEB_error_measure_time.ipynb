{
 "cells": [
  {
   "cell_type": "code",
   "execution_count": 1,
   "metadata": {},
   "outputs": [],
   "source": [
    "import numpy as np\n",
    "from nodes.nodes import FoldiakNode, InputNode\n",
    "from nodes.net import FoldiakShapedNet\n",
    "from nodes.layer import ShapedLayer\n",
    "\n",
    "import random\n",
    "import matplotlib.pyplot as plt\n",
    "\n",
    "random.seed(42)\n",
    "\n",
    "inputlayer = ShapedLayer((8,8))\n",
    "foldiaklayer = ShapedLayer(16)\n",
    "\n",
    "foldiaklayer.fillnodes(FoldiakNode)\n",
    "inputlayer.fillnodes(InputNode)\n",
    "    \n",
    "network = FoldiakShapedNet()\n",
    "network.append(inputlayer)\n",
    "network.append(foldiaklayer)\n",
    "network.connect_foldiak(inputlayer, foldiaklayer)\n",
    "\n",
    "network.setparam(\"intmethod\",\"LSODA\")\n",
    "network.setparam(\"a\",0.01)\n",
    "network.setparam(\"b\",0.001)\n",
    "network.setparam(\"y\",0.01)\n",
    "network.setparam(\"p\",1.0/8)\n",
    "network.setparam(\"l\",10)\n",
    "network.setparam(\"tmax\",100)"
   ]
  },
  {
   "cell_type": "code",
   "execution_count": 2,
   "metadata": {},
   "outputs": [],
   "source": [
    "network.setup()\n",
    "network.setup()"
   ]
  },
  {
   "cell_type": "code",
   "execution_count": 3,
   "metadata": {},
   "outputs": [],
   "source": [
    "samples = np.loadtxt(\"../data/lines_keyed.csv\")\n",
    "keys = np.loadtxt(\"../data/lines_keys.csv\")"
   ]
  },
  {
   "cell_type": "code",
   "execution_count": 4,
   "metadata": {},
   "outputs": [],
   "source": [
    "train = samples[25000:]"
   ]
  },
  {
   "cell_type": "code",
   "execution_count": 5,
   "metadata": {},
   "outputs": [],
   "source": [
    "#Steady state thres:\n",
    "network.setparam(\"a\",0.0)\n",
    "network.setparam(\"b\",0.0)\n",
    "network.setparam(\"y\",0.5)\n",
    "for i in range(200):\n",
    "    for i in inputlayer.nodes:\n",
    "        i.setvalstored(random.uniform(0,1))\n",
    "    network.update()"
   ]
  },
  {
   "cell_type": "code",
   "execution_count": 6,
   "metadata": {},
   "outputs": [],
   "source": [
    "network.setparam(\"a\",0.01)\n",
    "network.setparam(\"b\",0.001)\n",
    "network.setparam(\"y\",0.01)"
   ]
  },
  {
   "cell_type": "code",
   "execution_count": 7,
   "metadata": {},
   "outputs": [],
   "source": [
    "test_samples = samples[:25000]"
   ]
  },
  {
   "cell_type": "code",
   "execution_count": 8,
   "metadata": {},
   "outputs": [],
   "source": [
    "possibletypes = []\n",
    "for i in range(8):\n",
    "    sample = np.zeros((8,8))\n",
    "    sample[i,:] = 1\n",
    "    possibletypes.append(sample)\n",
    "for i in range(8):\n",
    "    sample = np.zeros((8,8))\n",
    "    sample[:,i] = 1\n",
    "    possibletypes.append(sample)"
   ]
  },
  {
   "cell_type": "code",
   "execution_count": 9,
   "metadata": {},
   "outputs": [
    {
     "name": "stdout",
     "output_type": "stream",
     "text": [
      "Finished: 0\n",
      "Finished: 1\n",
      "Finished: 2\n",
      "Finished: 3\n",
      "Finished: 4\n"
     ]
    },
    {
     "data": {
      "image/png": "[encoded data removed]",
      "text/plain": [
       "<Figure size 432x288 with 16 Axes>"
      ]
     },
     "metadata": {
      "needs_background": "light"
     },
     "output_type": "display_data"
    },
    {
     "data": {
      "image/png": "[encoded data removed]",
      "text/plain": [
       "<Figure size 432x288 with 1 Axes>"
      ]
     },
     "metadata": {
      "needs_background": "light"
     },
     "output_type": "display_data"
    },
    {
     "name": "stdout",
     "output_type": "stream",
     "text": [
      "Finished: 5\n",
      "Finished: 6\n",
      "Finished: 7\n",
      "Finished: 8\n",
      "Finished: 9\n",
      "Finished: 10\n",
      "Finished: 11\n",
      "Finished: 12\n",
      "Finished: 13\n",
      "Finished: 14\n",
      "Finished: 15\n",
      "Finished: 16\n",
      "Finished: 17\n",
      "Finished: 18\n",
      "Finished: 19\n",
      "Finished: 20\n",
      "Finished: 21\n",
      "Finished: 22\n",
      "Finished: 23\n",
      "Finished: 24\n",
      "Finished: 25\n",
      "Finished: 26\n",
      "Finished: 27\n",
      "Finished: 28\n",
      "Finished: 29\n",
      "Finished: 30\n",
      "Finished: 31\n",
      "Finished: 32\n",
      "Finished: 33\n",
      "Finished: 34\n",
      "Finished: 35\n",
      "Finished: 36\n",
      "Finished: 37\n",
      "Finished: 38\n",
      "Finished: 39\n",
      "Finished: 40\n",
      "Finished: 41\n",
      "Finished: 42\n",
      "Finished: 43\n",
      "Finished: 44\n",
      "Finished: 45\n",
      "Finished: 46\n",
      "Finished: 47\n",
      "Finished: 48\n",
      "Finished: 49\n",
      "Finished: 50\n",
      "Finished: 51\n",
      "Finished: 52\n",
      "Finished: 53\n",
      "Finished: 54\n",
      "Finished: 55\n",
      "Finished: 56\n",
      "Finished: 57\n",
      "Finished: 58\n",
      "Finished: 59\n"
     ]
    }
   ],
   "source": [
    "key_errors = []\n",
    "mem_errors = []\n",
    "\n",
    "startnum = 0\n",
    "\n",
    "for startnum in range(60):\n",
    "\n",
    "    for j in range(1000):\n",
    "        i = j + startnum*1000\n",
    "        inputlayer.setvals(train[i,:])\n",
    "        network.update()\n",
    "        #if (j%1000)==999:\n",
    "            #print(str(i+1)+\"/\"+str(maxnum))\n",
    "    \n",
    "    \n",
    "    permutation = [0,0,0,0,0,0,0,0,\n",
    "                   0,0,0,0,0,0,0,0]\n",
    "    outimages = []\n",
    "    \n",
    "    for j in range(16):\n",
    "        lowestmin = 64\n",
    "        outimage = np.zeros((8,8))\n",
    "        goestonum = 0\n",
    "        tnum = 0\n",
    "        for i in possibletypes:\n",
    "            mem = np.reshape(network.cgroups[0].getbiases()[:,j],(8,8))\n",
    "            mem = mem/mem.max()\n",
    "            er = np.sum(np.abs(mem - i))\n",
    "            #print(er)\n",
    "            if (er < lowestmin):\n",
    "                lowestmin = er\n",
    "                outimage = np.abs(mem-i)\n",
    "                goestonum = tnum\n",
    "            tnum += 1\n",
    "        outimages.append(outimage)\n",
    "        permutation[goestonum] = j\n",
    "    ersum = 0\n",
    "    for i in outimages:\n",
    "        ersum += np.sum(i)\n",
    "    mem_errors.append(ersum/(8*8*16))\n",
    "    \n",
    "    \n",
    "    \n",
    "    output_keys = np.zeros((100,16))\n",
    "    rand_keys = np.random.permutation(100)\n",
    "    \n",
    "    idx = np.empty_like(permutation)\n",
    "    idx[permutation] = np.arange(len(permutation))\n",
    "    \n",
    "    test_keys = keys[:25000, idx]\n",
    "    test_this_keys = test_keys[rand_keys,:]\n",
    "    test_samples_this = test_samples[rand_keys,:]\n",
    "    for i in range(100):\n",
    "        inputlayer.setvals(test_samples_this[i,:])\n",
    "        network.update()\n",
    "        output_keys[i,:] = foldiaklayer.returnvals()\n",
    "        #if (i%1000)==999:\n",
    "            #print(str(i+1)+\"/\"+str(25000))\n",
    "    \n",
    "    key_errors.append(np.sum(np.abs(test_this_keys-output_keys))/np.sum(test_this_keys))\n",
    "    \n",
    "    if (startnum==5):\n",
    "        fig=plt.figure()\n",
    "\n",
    "        for node_num in range(len(foldiaklayer.nodes)):\n",
    "            testbias = []\n",
    "            connects = np.reshape(network.cgroups[0].npconnects, -1)\n",
    "            for node in inputlayer.nodes:\n",
    "                for i in connects:\n",
    "                    if (i.input is node) and (i.output is foldiaklayer.nodes[node_num]):\n",
    "                        testbias.append(i.bias)\n",
    "            fig.add_subplot(4,4,node_num+1)\n",
    "\n",
    "            plt.imshow(np.array(testbias).reshape((8,8)))\n",
    "        fig.tight_layout()\n",
    "        #plt.savefig(\"2020_07_07_bias_figure.png\")\n",
    "        plt.show()\n",
    "\n",
    "        plt.imshow(np.abs(test_this_keys-output_keys))\n",
    "        plt.show()\n",
    "        \n",
    "    \n",
    "    print(\"Finished: \" + str(startnum+1))"
   ]
  },
  {
   "cell_type": "code",
   "execution_count": 10,
   "metadata": {},
   "outputs": [
    {
     "data": {
      "image/png": "[encoded data removed]",
      "text/plain": [
       "<Figure size 432x288 with 1 Axes>"
      ]
     },
     "metadata": {
      "needs_background": "light"
     },
     "output_type": "display_data"
    }
   ],
   "source": [
    "plt.plot([i*1000 for i in range(len(key_errors))], key_errors, label='Key Error')\n",
    "plt.plot([i*1000 for i in range(len(mem_errors))], mem_errors, label='Learned Memory Error')\n",
    "plt.legend()\n",
    "plt.savefig(\"2020_07_07_LEB_error_graph.png\")\n",
    "plt.show()"
   ]
  },
  {
   "cell_type": "code",
   "execution_count": 11,
   "metadata": {},
   "outputs": [
    {
     "data": {
      "image/png": "[encoded data removed]",
      "text/plain": [
       "<Figure size 432x288 with 16 Axes>"
      ]
     },
     "metadata": {
      "needs_background": "light"
     },
     "output_type": "display_data"
    }
   ],
   "source": [
    "fig=plt.figure()\n",
    "\n",
    "for node_num in range(len(foldiaklayer.nodes)):\n",
    "    testbias = []\n",
    "    connects = np.reshape(network.cgroups[0].npconnects, -1)\n",
    "    for node in inputlayer.nodes:\n",
    "        for i in connects:\n",
    "            if (i.input is node) and (i.output is foldiaklayer.nodes[node_num]):\n",
    "                testbias.append(i.bias)\n",
    "    fig.add_subplot(4,4,node_num+1)\n",
    "            \n",
    "    plt.imshow(np.array(testbias).reshape((8,8)))\n",
    "fig.tight_layout()\n",
    "#plt.savefig(\"2020_07_07_bias_figure.png\")\n",
    "plt.show()"
   ]
  },
  {
   "cell_type": "code",
   "execution_count": 12,
   "metadata": {},
   "outputs": [
    {
     "data": {
      "text/plain": [
       "[0, 5, 1, 4, 2, 10, 12, 3, 9, 8, 6, 7, 11, 14, 13, 15]"
      ]
     },
     "execution_count": 12,
     "metadata": {},
     "output_type": "execute_result"
    }
   ],
   "source": [
    "permutation"
   ]
  },
  {
   "cell_type": "code",
   "execution_count": 14,
   "metadata": {},
   "outputs": [
    {
     "data": {
      "image/png": "[encoded data removed]",
      "text/plain": [
       "<Figure size 432x288 with 1 Axes>"
      ]
     },
     "metadata": {
      "needs_background": "light"
     },
     "output_type": "display_data"
    }
   ],
   "source": [
    "plt.imshow((test_this_keys-output_keys))\n",
    "plt.show()"
   ]
  },
  {
   "cell_type": "code",
   "execution_count": null,
   "metadata": {},
   "outputs": [],
   "source": []
  }
 ],
 "metadata": {
  "kernelspec": {
   "display_name": "Python 3",
   "language": "python",
   "name": "python3"
  },
  "language_info": {
   "codemirror_mode": {
    "name": "ipython",
    "version": 3
   },
   "file_extension": ".py",
   "mimetype": "text/x-python",
   "name": "python",
   "nbconvert_exporter": "python",
   "pygments_lexer": "ipython3",
   "version": "3.6.6"
  }
 },
 "nbformat": 4,
 "nbformat_minor": 4
}

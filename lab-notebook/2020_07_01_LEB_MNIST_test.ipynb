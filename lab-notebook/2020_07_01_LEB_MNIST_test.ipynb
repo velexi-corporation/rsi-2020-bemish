{
 "cells": [
  {
   "cell_type": "code",
   "execution_count": 1,
   "metadata": {},
   "outputs": [],
   "source": [
    "from nodes.nodes import FoldiakNode, InputNode\n",
    "from nodes.net import FoldiakNet\n",
    "from nodes.core import layer\n",
    "\n",
    "import random\n",
    "import matplotlib.pyplot as plt\n",
    "\n",
    "random.seed(42)\n",
    "\n",
    "inputlayer = layer()\n",
    "foldiaklayer = layer()\n",
    "\n",
    "for i in range(16):\n",
    "    foldiaklayer.append(FoldiakNode(0.5))\n",
    "for i in range(64):\n",
    "    #I really need a way to make layers able to store multidimensional arrays; eventually, this would be an 8x8 (or larger)\n",
    "    #Actually, lets do 28x28 so I can run MNIST through this\n",
    "    inputlayer.append(InputNode(0))\n",
    "    \n",
    "network = FoldiakNet()\n",
    "network.append(inputlayer)\n",
    "network.append(foldiaklayer)\n",
    "network.connect_layer_hebbian(inputlayer, foldiaklayer)\n",
    "network.connect_self_antihebbian(foldiaklayer)\n",
    "\n",
    "network.setparam(\"a\",0.01)\n",
    "network.setparam(\"b\",0.001)\n",
    "network.setparam(\"y\",0.01)\n",
    "network.setparam(\"p\",0.1)\n",
    "network.setparam(\"l\",10)"
   ]
  },
  {
   "cell_type": "code",
   "execution_count": 2,
   "metadata": {},
   "outputs": [],
   "source": [
    "from sklearn import datasets\n",
    "digits = datasets.load_digits()"
   ]
  },
  {
   "cell_type": "code",
   "execution_count": 3,
   "metadata": {},
   "outputs": [],
   "source": [
    "n_samples = len(digits.images)\n",
    "data = digits.images.reshape((n_samples, -1))/16.0"
   ]
  },
  {
   "cell_type": "code",
   "execution_count": 4,
   "metadata": {},
   "outputs": [
    {
     "data": {
      "text/plain": [
       "(1797, 64)"
      ]
     },
     "execution_count": 4,
     "metadata": {},
     "output_type": "execute_result"
    }
   ],
   "source": [
    "data.shape"
   ]
  },
  {
   "cell_type": "code",
   "execution_count": 11,
   "metadata": {},
   "outputs": [],
   "source": [
    "#Steady state thres:\n",
    "network.setparam(\"a\",0.0)\n",
    "network.setparam(\"b\",0.0)\n",
    "network.setparam(\"y\",0.5)\n",
    "for i in inputlayer.nodes:\n",
    "    i.setvalstored(random.uniform(0,1))\n",
    "for i in range(200):\n",
    "    network.update()"
   ]
  },
  {
   "cell_type": "code",
   "execution_count": 60,
   "metadata": {},
   "outputs": [
    {
     "name": "stdout",
     "output_type": "stream",
     "text": [
      "1000/16173\n",
      "2000/16173\n",
      "3000/16173\n",
      "4000/16173\n",
      "5000/16173\n",
      "6000/16173\n",
      "7000/16173\n",
      "8000/16173\n",
      "9000/16173\n",
      "10000/16173\n",
      "11000/16173\n",
      "12000/16173\n",
      "13000/16173\n",
      "14000/16173\n",
      "15000/16173\n",
      "16000/16173\n",
      "16173/16173\n"
     ]
    }
   ],
   "source": [
    "network.setparam(\"a\",0.01)\n",
    "network.setparam(\"b\",0.001)\n",
    "network.setparam(\"y\",0.01)\n",
    "\n",
    "numrun = 0\n",
    "outrun = 3\n",
    "inrun = 3\n",
    "nummax = outrun * inrun * data.shape[0]\n",
    "for num in range(outrun):\n",
    "    for sample in data:\n",
    "        for num2 in range(inrun):\n",
    "            datalist = sample.tolist()\n",
    "            for i in range(len(inputlayer.nodes)):\n",
    "                inputlayer.nodes[i].setvalstored(datalist[i])\n",
    "            network.update()\n",
    "            numrun += 1\n",
    "            if ((numrun % 1000) == 0):\n",
    "                print(str(numrun)+\"/\"+str(nummax))\n",
    "print(str(nummax)+\"/\"+str(nummax))"
   ]
  },
  {
   "cell_type": "code",
   "execution_count": 73,
   "metadata": {},
   "outputs": [
    {
     "data": {
      "image/png": "[encoded data removed]",
      "text/plain": [
       "<Figure size 432x288 with 1 Axes>"
      ]
     },
     "metadata": {
      "needs_background": "light"
     },
     "output_type": "display_data"
    }
   ],
   "source": [
    "j = 1\n",
    "for i in range(len(data[j])):\n",
    "    inputlayer.nodes[i].setvalstored(data[j].tolist()[i])\n",
    "\n",
    "plt.imshow(data[j].reshape(8,8))\n",
    "plt.show()"
   ]
  },
  {
   "cell_type": "code",
   "execution_count": 74,
   "metadata": {},
   "outputs": [
    {
     "data": {
      "text/plain": [
       "[0, 0, 0, 0, 0, 0, 1, 0, 0, 1, 0, 0, 0, 0, 0, 0]"
      ]
     },
     "execution_count": 74,
     "metadata": {},
     "output_type": "execute_result"
    }
   ],
   "source": [
    "network.update()\n",
    "outlist = []\n",
    "for i in foldiaklayer.nodes:\n",
    "    outlist.append(i.returnval())\n",
    "outlist"
   ]
  },
  {
   "cell_type": "code",
   "execution_count": 75,
   "metadata": {},
   "outputs": [
    {
     "name": "stdout",
     "output_type": "stream",
     "text": [
      "-1.8987000000002876\n",
      "-0.3629000000002873\n",
      "-0.5043000000002851\n",
      "-1.1029000000002915\n",
      "-0.7543000000002835\n",
      "-1.9228999999975978\n",
      "-0.631500000000287\n",
      "-0.5229000000002877\n",
      "-1.422900000000291\n",
      "-2.3428999999967144\n"
     ]
    }
   ],
   "source": [
    "num = 0\n",
    "for i in network.connects:\n",
    "    if (num < 10):\n",
    "        if i.input in foldiaklayer.nodes:\n",
    "            print(i.bias)\n",
    "            num+=1"
   ]
  },
  {
   "cell_type": "code",
   "execution_count": 76,
   "metadata": {},
   "outputs": [
    {
     "data": {
      "image/png": "[encoded data removed]",
      "text/plain": [
       "<Figure size 432x288 with 1 Axes>"
      ]
     },
     "metadata": {
      "needs_background": "light"
     },
     "output_type": "display_data"
    }
   ],
   "source": [
    "network.foldiaksetup()\n",
    "plot = []\n",
    "for i in foldiaklayer.nodes:\n",
    "    plot.append([])\n",
    "for i in range(100):\n",
    "    for j in range(len(foldiaklayer.nodes)):\n",
    "        plot[j].append(foldiaklayer.nodes[j].returnval())\n",
    "    network.foldiakupdate()\n",
    "\n",
    "for i in plot:\n",
    "    plt.plot(i)\n",
    "plt.show()"
   ]
  },
  {
   "cell_type": "code",
   "execution_count": 25,
   "metadata": {},
   "outputs": [],
   "source": [
    "for i in range(1000):\n",
    "    network.update()"
   ]
  },
  {
   "cell_type": "code",
   "execution_count": null,
   "metadata": {},
   "outputs": [],
   "source": []
  }
 ],
 "metadata": {
  "kernelspec": {
   "display_name": "Python 3",
   "language": "python",
   "name": "python3"
  },
  "language_info": {
   "codemirror_mode": {
    "name": "ipython",
    "version": 3
   },
   "file_extension": ".py",
   "mimetype": "text/x-python",
   "name": "python",
   "nbconvert_exporter": "python",
   "pygments_lexer": "ipython3",
   "version": "3.6.6"
  }
 },
 "nbformat": 4,
 "nbformat_minor": 4
}

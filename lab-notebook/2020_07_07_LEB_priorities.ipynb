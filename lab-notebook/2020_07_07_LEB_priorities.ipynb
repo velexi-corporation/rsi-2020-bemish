{
 "cells": [
  {
   "cell_type": "markdown",
   "metadata": {},
   "source": [
    "Priorities\n",
    "----------\n",
    "\n",
    "1. Quantify accuracy - learned memories, predictions\n",
    "2. Quantify, compare inhibition - possibly increase output size for more data?\n",
    "3. Look at accuracy compared to various changes:\n",
    "    1. Changes in number of categories\n",
    "    2. Changes in `p`\n",
    "    3. Changes in training rates\n",
    "    4. Changes in `tmax`\n",
    "4. Change rules - ignore inhibition in \"evaluation\" output?\n",
    "5. Look at effect of `p` on final value.\n",
    "6. Add weight decay to Anti-Hebbian rule."
   ]
  },
  {
   "cell_type": "markdown",
   "metadata": {},
   "source": [
    "Possible ideas:\n",
    "---------------\n",
    "\n",
    "- Keep vectors at scale 1?\n",
    "    - Keep memories at length 1.\n",
    "- Eliminate threshold?\n",
    "- `p` - would like to avoid having to specify `p`."
   ]
  },
  {
   "cell_type": "markdown",
   "metadata": {},
   "source": [
    "* Analysis\n",
    "* Starting values for $p_i$\n",
    "* Rules - nonlinear?\n",
    "* Re-run from original"
   ]
  },
  {
   "cell_type": "code",
   "execution_count": null,
   "metadata": {},
   "outputs": [],
   "source": []
  }
 ],
 "metadata": {
  "kernelspec": {
   "display_name": "Python 3",
   "language": "python",
   "name": "python3"
  },
  "language_info": {
   "codemirror_mode": {
    "name": "ipython",
    "version": 3
   },
   "file_extension": ".py",
   "mimetype": "text/x-python",
   "name": "python",
   "nbconvert_exporter": "python",
   "pygments_lexer": "ipython3",
   "version": "3.6.6"
  }
 },
 "nbformat": 4,
 "nbformat_minor": 4
}

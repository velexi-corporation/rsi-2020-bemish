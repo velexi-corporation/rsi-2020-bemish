{
 "cells": [
  {
   "cell_type": "code",
   "execution_count": 2,
   "metadata": {},
   "outputs": [
    {
     "name": "stdout",
     "output_type": "stream",
     "text": [
      "Finished: 0.005\n",
      "Finished: 0.01\n",
      "Finished: 0.015\n",
      "Finished: 0.02\n",
      "Finished: 0.025\n",
      "Finished: 0.03\n",
      "Finished: 0.035\n"
     ]
    }
   ],
   "source": [
    "import numpy as np\n",
    "from nodes.nodes import FoldiakNode, InputNode\n",
    "from nodes.net import FoldiakShapedNet\n",
    "from nodes.layer import ShapedLayer\n",
    "\n",
    "import random\n",
    "import matplotlib.pyplot as plt\n",
    "\n",
    "#random.seed(7)\n",
    "\n",
    "samples = np.loadtxt(\"../data/lines_unbalanced.csv\")\n",
    "keys = np.loadtxt(\"../data/keys_unbalanced.csv\")\n",
    "\n",
    "perm = np.random.permutation(len(keys))\n",
    "\n",
    "samples = samples[perm]\n",
    "keys = keys[perm]\n",
    "\n",
    "possibletypes = []\n",
    "for i in range(8):\n",
    "    sample = np.zeros((8,8))\n",
    "    sample[i,:] = 1\n",
    "    possibletypes.append(sample)\n",
    "for i in range(8):\n",
    "    sample = np.zeros((8,8))\n",
    "    sample[:,i] = 1\n",
    "    possibletypes.append(sample)\n",
    "\n",
    "outputvs = []    \n",
    "\n",
    "ds = [0.005,0.010,0.015,0.020,0.025,0.030,0.035]\n",
    "\n",
    "for d in ds:\n",
    "    inputlayer = ShapedLayer((8,8))\n",
    "    foldiaklayer = ShapedLayer(16)\n",
    "\n",
    "    foldiaklayer.fillnodes(FoldiakNode)\n",
    "    inputlayer.fillnodes(InputNode)\n",
    "\n",
    "    network = FoldiakShapedNet()\n",
    "    network.append(inputlayer)\n",
    "    network.append(foldiaklayer)\n",
    "    network.connect_foldiak(inputlayer, foldiaklayer)\n",
    "\n",
    "    network.setparam(\"intmethod\",\"LSODA\")\n",
    "    network.setparam(\"p\",0.125)\n",
    "    network.setparam(\"l\",10)\n",
    "    network.setparam(\"tmax\",100)\n",
    "\n",
    "    network.setup()\n",
    "    network.setup()\n",
    "\n",
    "    #Steady state thres:\n",
    "    network.setparam(\"a\",0.0)\n",
    "    network.setparam(\"b\",0.0)\n",
    "    network.setparam(\"y\",0.5)\n",
    "    network.setparam(\"d\",0.0)\n",
    "    network.setparam(\"cr\",0.0)\n",
    "\n",
    "    for i in range(100):\n",
    "        for i in inputlayer.nodes:\n",
    "            i.setvalstored(random.uniform(0,1))\n",
    "        network.update()\n",
    "\n",
    "    network.setparam(\"a\",0.1)\n",
    "    network.setparam(\"b\",0.02)\n",
    "    network.setparam(\"y\",0.02)\n",
    "    network.setparam(\"d\",d)\n",
    "    #network.setparam(\"cr\",0.0001)\n",
    "    network.setparam(\"cr\", 0.0)\n",
    "\n",
    "    ps         = []\n",
    "\n",
    "    startnum = 0\n",
    "    for startnum in range(50):\n",
    "        test_samples_this = samples[startnum*1000:startnum*1000+1000]\n",
    "        for i in range(400):\n",
    "            inputlayer.setvals(test_samples_this[i,:])\n",
    "            network.update()\n",
    "\n",
    "        ps.append([i.p for i in foldiaklayer.nodes])\n",
    "\n",
    "    np_ps = np.array(ps)\n",
    "    vs = []\n",
    "    for i in range(len(foldiaklayer.nodes)):\n",
    "        thisps = np_ps[:,i]\n",
    "        vs.append(thisps.var())\n",
    "\n",
    "    outputvs.append(sum(vs)/len(vs))\n",
    "    \n",
    "    print(\"Finished: \" + str(d))"
   ]
  },
  {
   "cell_type": "code",
   "execution_count": 3,
   "metadata": {},
   "outputs": [
    {
     "data": {
      "image/png": "[encoded data removed]",
      "text/plain": [
       "<Figure size 432x288 with 1 Axes>"
      ]
     },
     "metadata": {
      "needs_background": "light"
     },
     "output_type": "display_data"
    }
   ],
   "source": [
    "from matplotlib import rc\n",
    "rc('text', usetex=True)\n",
    "\n",
    "plt.plot(ds, outputvs)\n",
    "plt.show()"
   ]
  },
  {
   "cell_type": "code",
   "execution_count": null,
   "metadata": {},
   "outputs": [],
   "source": []
  }
 ],
 "metadata": {
  "kernelspec": {
   "display_name": "Python 3",
   "language": "python",
   "name": "python3"
  },
  "language_info": {
   "codemirror_mode": {
    "name": "ipython",
    "version": 3
   },
   "file_extension": ".py",
   "mimetype": "text/x-python",
   "name": "python",
   "nbconvert_exporter": "python",
   "pygments_lexer": "ipython3",
   "version": "3.6.6"
  }
 },
 "nbformat": 4,
 "nbformat_minor": 4
}

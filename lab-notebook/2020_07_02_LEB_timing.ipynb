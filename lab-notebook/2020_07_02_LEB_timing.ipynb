{
 "cells": [
  {
   "cell_type": "code",
   "execution_count": 1,
   "metadata": {},
   "outputs": [],
   "source": [
    "from nodes.nodes import FoldiakNode, InputNode\n",
    "from nodes.net import FoldiakNet\n",
    "from nodes.core import layer\n",
    "\n",
    "import time\n",
    "\n",
    "import random\n",
    "import matplotlib.pyplot as plt\n",
    "\n",
    "random.seed(42)\n",
    "\n",
    "inputlayer = layer()\n",
    "foldiaklayer = layer()\n",
    "\n",
    "for i in range(16):\n",
    "    foldiaklayer.append(FoldiakNode(0.5))\n",
    "for i in range(784):\n",
    "    #I really need a way to make layers able to store multidimensional arrays; eventually, this would be an 8x8 (or larger)\n",
    "    #Actually, lets do 28x28 so I can run MNIST through this\n",
    "    inputlayer.append(InputNode(0))\n",
    "    \n",
    "network = FoldiakNet()\n",
    "network.append(inputlayer)\n",
    "network.append(foldiaklayer)\n",
    "network.connect_layer_hebbian(inputlayer, foldiaklayer)\n",
    "network.connect_self_antihebbian(foldiaklayer)\n",
    "\n",
    "network.setup()"
   ]
  },
  {
   "cell_type": "code",
   "execution_count": 2,
   "metadata": {},
   "outputs": [],
   "source": [
    "for i in inputlayer.nodes:\n",
    "    i.setvalstored(random.uniform(0,1))"
   ]
  },
  {
   "cell_type": "code",
   "execution_count": 7,
   "metadata": {},
   "outputs": [
    {
     "name": "stdout",
     "output_type": "stream",
     "text": [
      "0.005188599999999877\n"
     ]
    }
   ],
   "source": [
    "t0 = time.clock()\n",
    "network.foldiaksetup()\n",
    "t1 = time.clock()\n",
    "print(t1-t0)"
   ]
  },
  {
   "cell_type": "markdown",
   "metadata": {},
   "source": [
    "Ideas:\n",
    "------\n",
    "\n",
    "Connection array - change network to store connections in array.\n",
    "Nodes - store in array"
   ]
  },
  {
   "cell_type": "code",
   "execution_count": 17,
   "metadata": {},
   "outputs": [
    {
     "name": "stdout",
     "output_type": "stream",
     "text": [
      "1.051389999999941\n"
     ]
    }
   ],
   "source": [
    "t0 = time.clock()\n",
    "network.update()\n",
    "t1 = time.clock()\n",
    "print((t1-t0)*90000/60/60)"
   ]
  },
  {
   "cell_type": "code",
   "execution_count": null,
   "metadata": {},
   "outputs": [],
   "source": []
  }
 ],
 "metadata": {
  "kernelspec": {
   "display_name": "Python 3",
   "language": "python",
   "name": "python3"
  },
  "language_info": {
   "codemirror_mode": {
    "name": "ipython",
    "version": 3
   },
   "file_extension": ".py",
   "mimetype": "text/x-python",
   "name": "python",
   "nbconvert_exporter": "python",
   "pygments_lexer": "ipython3",
   "version": "3.6.6"
  }
 },
 "nbformat": 4,
 "nbformat_minor": 4
}

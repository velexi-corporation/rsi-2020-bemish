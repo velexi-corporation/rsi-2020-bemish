{
 "cells": [
  {
   "cell_type": "code",
   "execution_count": 1,
   "metadata": {},
   "outputs": [],
   "source": [
    "#An important thing to note (and a reason I will likely reimplement most of this):\n",
    "# The differential equation in the paper is used as part of computing the \"stable state\" of the network with a given input;\n",
    "# though interesting, my approach would have to let the newwork \"settle\" into a new input when it sees it; the differential\n",
    "# equation effectively lets us solve for correct state, while also adding nonlinearity.\n",
    "\n",
    "#I'll likely modify what I have to work with this. It shouldn't be too bad. Instead of simply \"updating\" the each node when I\n",
    "# update the network, I'll update the input nodes, then solve the dif-eq based on the connections of the network. This gives me\n",
    "# another reason to make connections their own objects. When the nodes themselves are \"updated,\" it will only serve to modify\n",
    "# the connections. The \"evaluate\" method of the Foldiak nodes will be temporarily removed. I would love to be able to evaluate\n",
    "# the network for a given input without modifying anything, but I'll have to see if it can be done without a dif-eq solver.\n",
    "# I'm not sure that step can be removed, because of the self-feedback within a layer.\n",
    "\n",
    "\n",
    "from nodes.nodes import FoldiakNode, InputNode\n",
    "from nodes.net import FoldiakNet\n",
    "from nodes.core import layer"
   ]
  },
  {
   "cell_type": "code",
   "execution_count": 2,
   "metadata": {},
   "outputs": [],
   "source": [
    "inputlayer = layer()\n",
    "foldiaklayer = layer()"
   ]
  },
  {
   "cell_type": "code",
   "execution_count": 3,
   "metadata": {},
   "outputs": [],
   "source": [
    "#Making something sort of like the network in the paper.\n",
    "\n",
    "for i in range(16):\n",
    "    #Need to write more backend for the threshold; I didn't use a normal threshold in the old code.\n",
    "    foldiaklayer.append(FoldiakNode([],1.0))\n",
    "for i in range(64):\n",
    "    #I really need a way to make layers able to store multidimensional arrays; eventually, this would be an 8x8 (or larger)\n",
    "    inputlayer.append(InputNode(0))"
   ]
  },
  {
   "cell_type": "code",
   "execution_count": 4,
   "metadata": {},
   "outputs": [],
   "source": [
    "#this makes a connection leading from every node in inputlayer to every node in foldiak layer\n",
    "network = FoldiakNet()\n",
    "network.append(inputlayer)\n",
    "network.append(foldiaklayer)\n",
    "network.connect_layer_hebbian(inputlayer, foldiaklayer)\n",
    "network.connect_self_antihebbian(foldiaklayer)"
   ]
  },
  {
   "cell_type": "markdown",
   "metadata": {},
   "source": [
    "Basic Network Setup\n",
    "-------------------\n",
    "\n",
    "The above sets up the basic outline for a Foldiak's Algorithim network.\n",
    "\n",
    "TODO:\n",
    "* ~~add same-layer connects and appropriate methods to FoldiakNet~~\n",
    "* add net-wide update method that solves dif-eq\n",
    "* ~~create update methods for HebbianConnect and AntiHebbianConnect~~\n",
    "* ~~add net-wide dictionary function for defining universal parameters and setting them in nodes/layers/connections~~"
   ]
  },
  {
   "cell_type": "code",
   "execution_count": null,
   "metadata": {},
   "outputs": [],
   "source": []
  }
 ],
 "metadata": {
  "kernelspec": {
   "display_name": "Python 3",
   "language": "python",
   "name": "python3"
  },
  "language_info": {
   "codemirror_mode": {
    "name": "ipython",
    "version": 3
   },
   "file_extension": ".py",
   "mimetype": "text/x-python",
   "name": "python",
   "nbconvert_exporter": "python",
   "pygments_lexer": "ipython3",
   "version": "3.6.6"
  }
 },
 "nbformat": 4,
 "nbformat_minor": 4
}

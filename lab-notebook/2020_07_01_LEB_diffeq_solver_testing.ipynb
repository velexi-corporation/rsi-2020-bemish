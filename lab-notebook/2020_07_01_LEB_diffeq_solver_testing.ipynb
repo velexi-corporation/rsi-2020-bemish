{
 "cells": [
  {
   "cell_type": "code",
   "execution_count": 1,
   "metadata": {},
   "outputs": [],
   "source": [
    "from nodes.nodes import FoldiakNode, InputNode\n",
    "from nodes.net import FoldiakNet\n",
    "from nodes.core import layer\n",
    "\n",
    "import random\n",
    "import matplotlib.pyplot as plt\n",
    "\n",
    "random.seed(42)\n",
    "\n",
    "inputlayer = layer()\n",
    "foldiaklayer = layer()\n",
    "\n",
    "for i in range(16):\n",
    "    foldiaklayer.append(FoldiakNode(0.5))\n",
    "for i in range(784):\n",
    "    #I really need a way to make layers able to store multidimensional arrays; eventually, this would be an 8x8 (or larger)\n",
    "    #Actually, lets do 28x28 so I can run MNIST through this\n",
    "    inputlayer.append(InputNode(0))\n",
    "    \n",
    "network = FoldiakNet()\n",
    "network.append(inputlayer)\n",
    "network.append(foldiaklayer)\n",
    "network.connect_layer_hebbian(inputlayer, foldiaklayer)\n",
    "network.connect_self_antihebbian(foldiaklayer)"
   ]
  },
  {
   "cell_type": "code",
   "execution_count": 2,
   "metadata": {},
   "outputs": [],
   "source": [
    "for i in inputlayer.nodes:\n",
    "    i.setvalstored(random.uniform(0,1))"
   ]
  },
  {
   "cell_type": "code",
   "execution_count": 3,
   "metadata": {},
   "outputs": [],
   "source": [
    "network.foldiaksetup()"
   ]
  },
  {
   "cell_type": "code",
   "execution_count": 4,
   "metadata": {},
   "outputs": [],
   "source": [
    "vals = []\n",
    "for i in range(100):\n",
    "    vals.append(foldiaklayer.nodes[2].val)\n",
    "    network.foldiakupdate()"
   ]
  },
  {
   "cell_type": "code",
   "execution_count": 5,
   "metadata": {},
   "outputs": [
    {
     "data": {
      "image/png": "[encoded data removed]",
      "text/plain": [
       "<Figure size 432x288 with 1 Axes>"
      ]
     },
     "metadata": {
      "needs_background": "light"
     },
     "output_type": "display_data"
    }
   ],
   "source": [
    "plt.plot(vals)\n",
    "plt.show()"
   ]
  },
  {
   "cell_type": "code",
   "execution_count": 6,
   "metadata": {},
   "outputs": [],
   "source": [
    "def setbiases(x,y,bias):\n",
    "    for i in network.connects:\n",
    "        if (i.input is foldiaklayer.nodes[x]) & (i.output is foldiaklayer.nodes[y]):\n",
    "            i.bias = bias\n",
    "        if (i.input is foldiaklayer.nodes[y]) & (i.output is foldiaklayer.nodes[x]):\n",
    "            i.bias = bias"
   ]
  },
  {
   "cell_type": "code",
   "execution_count": 147,
   "metadata": {},
   "outputs": [],
   "source": [
    "for i in range(10):\n",
    "    setbiases(random.choice(range(10)),\n",
    "             random.choice(range(10)),\n",
    "             random.uniform(-2,0))\n",
    "    setbiases(random.choice(range(10)),\n",
    "             random.choice(range(10)),\n",
    "             0.0)"
   ]
  },
  {
   "cell_type": "code",
   "execution_count": 148,
   "metadata": {},
   "outputs": [
    {
     "data": {
      "image/png": "[encoded data removed]",
      "text/plain": [
       "<Figure size 432x288 with 1 Axes>"
      ]
     },
     "metadata": {
      "needs_background": "light"
     },
     "output_type": "display_data"
    }
   ],
   "source": [
    "network.foldiaksetup()\n",
    "vals = []\n",
    "for i in range(100):\n",
    "    vals.append(foldiaklayer.nodes[2].val)\n",
    "    network.foldiakupdate()\n",
    "\n",
    "plt.plot(vals)\n",
    "plt.show()"
   ]
  },
  {
   "cell_type": "code",
   "execution_count": 149,
   "metadata": {},
   "outputs": [],
   "source": [
    "for i in range(100):\n",
    "    network.update()"
   ]
  },
  {
   "cell_type": "code",
   "execution_count": 150,
   "metadata": {},
   "outputs": [],
   "source": [
    "for j in range(100):\n",
    "    for i in network.connects:\n",
    "        i.update()"
   ]
  },
  {
   "cell_type": "code",
   "execution_count": 177,
   "metadata": {},
   "outputs": [
    {
     "data": {
      "image/png": "[encoded data removed]",
      "text/plain": [
       "<Figure size 432x288 with 1 Axes>"
      ]
     },
     "metadata": {
      "needs_background": "light"
     },
     "output_type": "display_data"
    }
   ],
   "source": [
    "network.setparam(\"dt\",0.05)\n",
    "network.setparam(\"l\",5)\n",
    "starty = 0.0\n",
    "\n",
    "\n",
    "network.foldiaksetup()\n",
    "\n",
    "for i in network.diffeqs:\n",
    "    i.yi = starty\n",
    "    i.pushval()\n",
    "\n",
    "vals = []\n",
    "\n",
    "for i in foldiaklayer.nodes:\n",
    "    vals.append([])\n",
    "\n",
    "for i in range(200):\n",
    "    for i in network.diffeqs:\n",
    "        i.dt = 0.2\n",
    "    for i in range(len(foldiaklayer.nodes)):\n",
    "        vals[i].append(foldiaklayer.nodes[i].val)\n",
    "    network.foldiakupdate()\n",
    "    \n",
    "    \n",
    "for i in vals:\n",
    "    plt.plot(i)\n",
    "plt.show()"
   ]
  },
  {
   "cell_type": "code",
   "execution_count": null,
   "metadata": {},
   "outputs": [],
   "source": []
  }
 ],
 "metadata": {
  "kernelspec": {
   "display_name": "Python 3",
   "language": "python",
   "name": "python3"
  },
  "language_info": {
   "codemirror_mode": {
    "name": "ipython",
    "version": 3
   },
   "file_extension": ".py",
   "mimetype": "text/x-python",
   "name": "python",
   "nbconvert_exporter": "python",
   "pygments_lexer": "ipython3",
   "version": "3.6.6"
  }
 },
 "nbformat": 4,
 "nbformat_minor": 4
}

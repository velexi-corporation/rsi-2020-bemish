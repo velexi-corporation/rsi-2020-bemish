{
 "cells": [
  {
   "cell_type": "code",
   "execution_count": 1,
   "metadata": {},
   "outputs": [],
   "source": [
    "from nodes.nodes import FoldiakNode, InputNode\n",
    "from nodes.net import FoldiakNet\n",
    "from nodes.core import layer\n",
    "\n",
    "import random\n",
    "import matplotlib.pyplot as plt\n",
    "\n",
    "random.seed(42)\n",
    "\n",
    "inputlayer = layer()\n",
    "foldiaklayer = layer()\n",
    "\n",
    "for i in range(16):\n",
    "    foldiaklayer.append(FoldiakNode(0.5))\n",
    "for i in range(8*8):\n",
    "    inputlayer.append(InputNode(0))\n",
    "    \n",
    "network = FoldiakNet()\n",
    "network.append(inputlayer)\n",
    "network.append(foldiaklayer)\n",
    "network.connect_layer_hebbian(inputlayer, foldiaklayer)\n",
    "network.connect_self_antihebbian(foldiaklayer)\n",
    "\n",
    "network.setparam(\"a\",0.01)\n",
    "network.setparam(\"b\",0.001)\n",
    "network.setparam(\"y\",0.01)\n",
    "network.setparam(\"p\",1.0/8)\n",
    "network.setparam(\"l\",10)"
   ]
  },
  {
   "cell_type": "code",
   "execution_count": 2,
   "metadata": {},
   "outputs": [],
   "source": [
    "import numpy as np\n",
    "samples = np.loadtxt(\"../data/lines.csv\")\n",
    "\n",
    "network.setup()"
   ]
  },
  {
   "cell_type": "code",
   "execution_count": 3,
   "metadata": {},
   "outputs": [],
   "source": [
    "#Steady state thres:\n",
    "network.setparam(\"a\",0.0)\n",
    "network.setparam(\"b\",0.0)\n",
    "network.setparam(\"y\",0.5)\n",
    "for i in inputlayer.nodes:\n",
    "    i.setvalstored(random.uniform(0,1))\n",
    "for i in range(200):\n",
    "    network.update()"
   ]
  },
  {
   "cell_type": "code",
   "execution_count": 4,
   "metadata": {},
   "outputs": [
    {
     "name": "stdout",
     "output_type": "stream",
     "text": [
      "1000/25000\n",
      "2000/25000\n",
      "3000/25000\n",
      "4000/25000\n",
      "5000/25000\n",
      "6000/25000\n",
      "7000/25000\n",
      "8000/25000\n",
      "9000/25000\n",
      "10000/25000\n",
      "11000/25000\n",
      "12000/25000\n",
      "13000/25000\n",
      "14000/25000\n",
      "15000/25000\n",
      "16000/25000\n",
      "17000/25000\n",
      "18000/25000\n",
      "19000/25000\n",
      "20000/25000\n",
      "21000/25000\n",
      "22000/25000\n",
      "23000/25000\n",
      "24000/25000\n",
      "25000/25000\n"
     ]
    }
   ],
   "source": [
    "network.setparam(\"a\",0.01)\n",
    "network.setparam(\"b\",0.001)\n",
    "network.setparam(\"y\",0.01)\n",
    "\n",
    "outnum = 5000\n",
    "innum = 5\n",
    "count = 0\n",
    "\n",
    "for i in range(outnum):\n",
    "    for j in range(len(inputlayer.nodes)):\n",
    "        inputlayer.nodes[j].setvalstored(samples[i,j])\n",
    "    for j in range(innum):\n",
    "        network.update()\n",
    "    count += innum\n",
    "    if ((count%1000)==0):\n",
    "        print(str(count)+\"/\"+str(innum*outnum))"
   ]
  },
  {
   "cell_type": "code",
   "execution_count": 19,
   "metadata": {},
   "outputs": [
    {
     "data": {
      "image/png": "[encoded data removed]",
      "text/plain": [
       "<Figure size 432x288 with 1 Axes>"
      ]
     },
     "metadata": {
      "needs_background": "light"
     },
     "output_type": "display_data"
    }
   ],
   "source": [
    "testbias = []\n",
    "nodeToTest = 0\n",
    "\n",
    "for node in inputlayer.nodes:\n",
    "    for i in network.connects:\n",
    "        if (i.input is node) and (i.output is foldiaklayer.nodes[nodeToTest]):\n",
    "            testbias.append(i.bias)\n",
    "            \n",
    "plt.imshow(np.array(testbias).reshape((8,8)))\n",
    "plt.show()"
   ]
  },
  {
   "cell_type": "code",
   "execution_count": null,
   "metadata": {},
   "outputs": [],
   "source": []
  }
 ],
 "metadata": {
  "kernelspec": {
   "display_name": "Python 3",
   "language": "python",
   "name": "python3"
  },
  "language_info": {
   "codemirror_mode": {
    "name": "ipython",
    "version": 3
   },
   "file_extension": ".py",
   "mimetype": "text/x-python",
   "name": "python",
   "nbconvert_exporter": "python",
   "pygments_lexer": "ipython3",
   "version": "3.6.6"
  }
 },
 "nbformat": 4,
 "nbformat_minor": 4
}

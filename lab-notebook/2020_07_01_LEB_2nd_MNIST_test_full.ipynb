{
 "cells": [
  {
   "cell_type": "code",
   "execution_count": 1,
   "metadata": {},
   "outputs": [],
   "source": [
    "import tensorflow_datasets as tfds\n",
    "\n",
    "from nodes.nodes import FoldiakNode, InputNode\n",
    "from nodes.net import FoldiakNet\n",
    "from nodes.core import layer\n",
    "\n",
    "import random\n",
    "import matplotlib.pyplot as plt\n",
    "\n",
    "import numpy as np"
   ]
  },
  {
   "cell_type": "code",
   "execution_count": 2,
   "metadata": {},
   "outputs": [],
   "source": [
    "random.seed(42)\n",
    "\n",
    "inputlayer = layer()\n",
    "foldiaklayer = layer()\n",
    "\n",
    "for i in range(16):\n",
    "    foldiaklayer.append(FoldiakNode(0.5))\n",
    "for i in range(28*28):\n",
    "    #I really need a way to make layers able to store multidimensional arrays; eventually, this would be an 8x8 (or larger)\n",
    "    #Actually, lets do 28x28 so I can run MNIST through this\n",
    "    inputlayer.append(InputNode(0))\n",
    "    \n",
    "network = FoldiakNet()\n",
    "network.append(inputlayer)\n",
    "network.append(foldiaklayer)\n",
    "network.connect_layer_hebbian(inputlayer, foldiaklayer)\n",
    "network.connect_self_antihebbian(foldiaklayer)\n",
    "\n",
    "network.setup()\n",
    "\n",
    "network.setparam(\"a\",0.01)\n",
    "network.setparam(\"b\",0.001)\n",
    "network.setparam(\"y\",0.01)\n",
    "network.setparam(\"p\",0.1)\n",
    "network.setparam(\"l\",10)"
   ]
  },
  {
   "cell_type": "code",
   "execution_count": 3,
   "metadata": {},
   "outputs": [],
   "source": [
    "#Steady state thres:\n",
    "network.setparam(\"a\",0.0)\n",
    "network.setparam(\"b\",0.0)\n",
    "network.setparam(\"y\",0.5)\n",
    "for i in inputlayer.nodes:\n",
    "    i.setvalstored(random.uniform(0,1))\n",
    "for i in range(200):\n",
    "    network.update()"
   ]
  },
  {
   "cell_type": "code",
   "execution_count": 4,
   "metadata": {},
   "outputs": [
    {
     "name": "stdout",
     "output_type": "stream",
     "text": [
      "3000/90000\n",
      "6000/90000\n",
      "9000/90000\n",
      "12000/90000\n",
      "15000/90000\n",
      "18000/90000\n",
      "21000/90000\n",
      "24000/90000\n",
      "27000/90000\n",
      "30000/90000\n",
      "33000/90000\n",
      "36000/90000\n",
      "39000/90000\n",
      "42000/90000\n",
      "45000/90000\n",
      "48000/90000\n",
      "51000/90000\n",
      "54000/90000\n",
      "57000/90000\n",
      "60000/90000\n",
      "63000/90000\n",
      "66000/90000\n",
      "69000/90000\n",
      "72000/90000\n",
      "75000/90000\n",
      "78000/90000\n",
      "81000/90000\n",
      "84000/90000\n",
      "87000/90000\n",
      "90000/90000\n",
      "0.8199686214166666\n"
     ]
    }
   ],
   "source": [
    "ds = tfds.load('mnist', split='train', as_supervised=True)\n",
    "\n",
    "network.setparam(\"a\",0.01)\n",
    "network.setparam(\"b\",0.001)\n",
    "network.setparam(\"y\",0.01)\n",
    "\n",
    "outnum = 30\n",
    "batch = 1000\n",
    "numeach = 3\n",
    "maxnum = outnum*batch*numeach\n",
    "count=0\n",
    "\n",
    "import time\n",
    "t0 = time.clock()\n",
    "\n",
    "for i in range(outnum):\n",
    "    ds1 = ds.take(batch)\n",
    "\n",
    "    for image, label in tfds.as_numpy(ds1):\n",
    "        data = image.reshape((-1))/256.0\n",
    "        datalist = data.tolist()\n",
    "        for i in range(len(inputlayer.nodes)):\n",
    "            inputlayer.nodes[i].setvalstored(datalist[i])\n",
    "        for i in range(numeach):\n",
    "            network.update()\n",
    "    count+=1\n",
    "    print(str(count*batch*numeach)+\"/\"+str(maxnum))\n",
    "    ds.skip(batch)\n",
    "\n",
    "t1 = time.clock()\n",
    "print((t1-t0)/60/60)"
   ]
  },
  {
   "cell_type": "code",
   "execution_count": 5,
   "metadata": {},
   "outputs": [],
   "source": [
    "test = tfds.as_numpy(ds.take(100))\n",
    "\n",
    "counts = []\n",
    "for i in range(10):\n",
    "    counts.append([])\n",
    "    for j in range(16):\n",
    "        counts[i].append(0)\n",
    "\n",
    "for image, label in test:\n",
    "    data = image.reshape((-1))/256.0\n",
    "    datalist = data.tolist()\n",
    "    for i in range(len(inputlayer.nodes)):\n",
    "        inputlayer.nodes[i].setvalstored(datalist[i])\n",
    "    for i in range(numeach):\n",
    "        network.update()\n",
    "    outlist = []\n",
    "    for i in foldiaklayer.nodes:\n",
    "        outlist.append(i.val)\n",
    "    counts[label] = [a+b for a,b in zip(counts[label],outlist)]"
   ]
  },
  {
   "cell_type": "code",
   "execution_count": 6,
   "metadata": {},
   "outputs": [
    {
     "data": {
      "image/png": "[encoded data removed]",
      "text/plain": [
       "<Figure size 432x288 with 1 Axes>"
      ]
     },
     "metadata": {
      "needs_background": "light"
     },
     "output_type": "display_data"
    }
   ],
   "source": [
    "plt.imshow(np.array(counts))\n",
    "plt.show()"
   ]
  },
  {
   "cell_type": "code",
   "execution_count": 8,
   "metadata": {},
   "outputs": [
    {
     "data": {
      "image/png": "[encoded data removed]",
      "text/plain": [
       "<Figure size 432x288 with 1 Axes>"
      ]
     },
     "metadata": {
      "needs_background": "light"
     },
     "output_type": "display_data"
    }
   ],
   "source": [
    "network.foldiaksetup()\n",
    "plot = []\n",
    "for i in foldiaklayer.nodes:\n",
    "    plot.append([])\n",
    "for i in range(100):\n",
    "    for j in range(len(foldiaklayer.nodes)):\n",
    "        plot[j].append(foldiaklayer.nodes[j].returnval())\n",
    "    network.foldiakupdate()\n",
    "\n",
    "for i in plot:\n",
    "    plt.plot(i)\n",
    "plt.show()"
   ]
  },
  {
   "cell_type": "code",
   "execution_count": null,
   "metadata": {},
   "outputs": [],
   "source": []
  }
 ],
 "metadata": {
  "kernelspec": {
   "display_name": "Python 3",
   "language": "python",
   "name": "python3"
  },
  "language_info": {
   "codemirror_mode": {
    "name": "ipython",
    "version": 3
   },
   "file_extension": ".py",
   "mimetype": "text/x-python",
   "name": "python",
   "nbconvert_exporter": "python",
   "pygments_lexer": "ipython3",
   "version": "3.6.6"
  }
 },
 "nbformat": 4,
 "nbformat_minor": 4
}

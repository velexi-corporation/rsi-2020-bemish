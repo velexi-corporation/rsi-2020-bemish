{
 "cells": [
  {
   "cell_type": "code",
   "execution_count": 1,
   "metadata": {},
   "outputs": [],
   "source": [
    "from nodes.nodes import FoldiakNode, InputNode\n",
    "from nodes.net import FoldiakShapedNet\n",
    "from nodes.layer import ShapedLayer\n",
    "\n",
    "import random\n",
    "import matplotlib.pyplot as plt\n",
    "\n",
    "random.seed(42)\n",
    "\n",
    "inputlayer = ShapedLayer((8,8))\n",
    "foldiaklayer = ShapedLayer(16)\n",
    "\n",
    "foldiaklayer.fillnodes(FoldiakNode)\n",
    "inputlayer.fillnodes(InputNode)\n",
    "    \n",
    "network = FoldiakShapedNet()\n",
    "network.append(inputlayer)\n",
    "network.append(foldiaklayer)\n",
    "network.connect_foldiak(inputlayer, foldiaklayer)\n",
    "\n",
    "network.setparam(\"intmethod\",\"LSODA\")\n",
    "\n",
    "network.setparam(\"a\",0.01)\n",
    "network.setparam(\"b\",0.001)\n",
    "network.setparam(\"y\",0.01)\n",
    "network.setparam(\"p\",1.0/8)\n",
    "network.setparam(\"l\",10)\n",
    "network.setparam(\"dt\",0.05)\n",
    "network.setparam(\"tnum\",100)"
   ]
  },
  {
   "cell_type": "code",
   "execution_count": 2,
   "metadata": {},
   "outputs": [
    {
     "name": "stdout",
     "output_type": "stream",
     "text": [
      "0.01308842400000001\n"
     ]
    }
   ],
   "source": [
    "#network.setparam(\"intmethod\",\"BDF\")\n",
    "network.setparam(\"dt\",0.05)\n",
    "network.setparam(\"tnum\",100)\n",
    "network.setup()\n",
    "for i in inputlayer.nodes:\n",
    "    i.setvalstored(random.uniform(0,1))\n",
    "\n",
    "network.update()\n",
    "network.update()\n",
    "\n",
    "import time\n",
    "deltas = []\n",
    "\n",
    "for i in range(200):\n",
    "    t0 = time.clock()\n",
    "    network.update()\n",
    "    t1 = time.clock()\n",
    "    deltas.append(t1-t0)\n",
    "print(sum(deltas)/len(deltas))"
   ]
  },
  {
   "cell_type": "code",
   "execution_count": 3,
   "metadata": {},
   "outputs": [],
   "source": [
    "import numpy as np\n",
    "samples = np.loadtxt(\"../data/lines_noisy.csv\")\n",
    "\n",
    "network.setup()"
   ]
  },
  {
   "cell_type": "code",
   "execution_count": 4,
   "metadata": {},
   "outputs": [],
   "source": [
    "#Steady state thres:\n",
    "network.setparam(\"a\",0.0)\n",
    "network.setparam(\"b\",0.0)\n",
    "network.setparam(\"y\",0.5)\n",
    "for i in range(200):\n",
    "    for i in inputlayer.nodes:\n",
    "        i.setvalstored(random.uniform(0,1))\n",
    "    network.update()"
   ]
  },
  {
   "cell_type": "code",
   "execution_count": null,
   "metadata": {},
   "outputs": [
    {
     "name": "stdout",
     "output_type": "stream",
     "text": [
      "1000/25000\n",
      "2000/25000\n",
      "3000/25000\n",
      "4000/25000\n"
     ]
    }
   ],
   "source": [
    "network.setparam(\"a\",0.01)\n",
    "network.setparam(\"b\",0.001)\n",
    "network.setparam(\"y\",0.01)\n",
    "\n",
    "outnum = 5000\n",
    "innum = 5\n",
    "count = 0\n",
    "\n",
    "for i in range(outnum):\n",
    "    for j in range(len(inputlayer.nodes)):\n",
    "        inputlayer.nodes[j].setvalstored(samples[i,j])\n",
    "    for j in range(innum):\n",
    "        network.update()\n",
    "    count += innum\n",
    "    if ((count%1000)==0):\n",
    "        print(str(count)+\"/\"+str(innum*outnum))"
   ]
  },
  {
   "cell_type": "code",
   "execution_count": 40,
   "metadata": {},
   "outputs": [
    {
     "data": {
      "image/png": "[encoded data removed]",
      "text/plain": [
       "<Figure size 432x288 with 16 Axes>"
      ]
     },
     "metadata": {
      "needs_background": "light"
     },
     "output_type": "display_data"
    }
   ],
   "source": [
    "fig=plt.figure()\n",
    "\n",
    "for node_num in range(len(foldiaklayer.nodes)):\n",
    "    testbias = []\n",
    "    connects = np.reshape(network.cgroups[0].npconnects, -1)\n",
    "    for node in inputlayer.nodes:\n",
    "        for i in connects:\n",
    "            if (i.input is node) and (i.output is foldiaklayer.nodes[node_num]):\n",
    "                testbias.append(i.bias)\n",
    "    fig.add_subplot(4,4,node_num+1)\n",
    "            \n",
    "    plt.imshow(np.array(testbias).reshape((8,8)))\n",
    "fig.tight_layout()\n",
    "#plt.savefig(\"2020_07_07_bias_figure.png\")\n",
    "plt.show()"
   ]
  },
  {
   "cell_type": "code",
   "execution_count": 39,
   "metadata": {},
   "outputs": [
    {
     "data": {
      "image/png": "[encoded data removed]",
      "text/plain": [
       "<Figure size 432x288 with 1 Axes>"
      ]
     },
     "metadata": {
      "needs_background": "light"
     },
     "output_type": "display_data"
    },
    {
     "data": {
      "text/plain": [
       "[0, 0, 0, 0, 0, 0, 0, 0, 0, 0, 0, 0, 0, 0, 0, 0]"
      ]
     },
     "execution_count": 39,
     "metadata": {},
     "output_type": "execute_result"
    }
   ],
   "source": [
    "samplenum = 30\n",
    "plt.imshow(samples[samplenum,:].reshape((8,8)))\n",
    "#plt.savefig(\"2020_07_07_sample_ex.png\")\n",
    "plt.show()\n",
    "for i in range(8*8):\n",
    "    inputlayer.nodes[i].setvalstored(samples[samplenum,i])\n",
    "network.update()\n",
    "output = []\n",
    "for i in foldiaklayer.nodes:\n",
    "    output.append(i.returnval())\n",
    "output"
   ]
  },
  {
   "cell_type": "code",
   "execution_count": 38,
   "metadata": {},
   "outputs": [
    {
     "data": {
      "image/png": "[encoded data removed]",
      "text/plain": [
       "<Figure size 432x288 with 1 Axes>"
      ]
     },
     "metadata": {
      "needs_background": "light"
     },
     "output_type": "display_data"
    }
   ],
   "source": [
    "plt.imshow(network.cgroups[1].getbiases())\n",
    "plt.show()"
   ]
  },
  {
   "cell_type": "code",
   "execution_count": 37,
   "metadata": {},
   "outputs": [
    {
     "data": {
      "text/plain": [
       "array([[ 0.        , -0.18359375, -0.2246875 , -0.14359375, -0.16890625,\n",
       "        -0.18890625, -0.13890625, -0.22359375, -0.15359375, -0.23359375,\n",
       "        -0.18359375, -0.17890625, -0.13171875, -0.18359375, -0.19359375,\n",
       "        -0.16359375],\n",
       "       [-0.18359375,  0.        , -0.18359375, -0.14234375, -0.165     ,\n",
       "        -0.17359375, -0.13359375, -0.18234375, -0.15234375, -0.16234375,\n",
       "        -0.14234375, -0.18359375, -0.16234375, -0.17234375, -0.20234375,\n",
       "        -0.14234375],\n",
       "       [-0.2246875 , -0.18359375,  0.        , -0.12984375, -0.13890625,\n",
       "        -0.14890625, -0.11890625, -0.20359375, -0.19359375, -0.17359375,\n",
       "        -0.15359375, -0.14890625, -0.12171875, -0.15359375, -0.16359375,\n",
       "        -0.15359375],\n",
       "       [-0.14359375, -0.14234375, -0.12984375,  0.        , -0.12359375,\n",
       "        -0.1615625 , -0.12234375, -0.14234375, -0.13234375, -0.17234375,\n",
       "        -0.14234375, -0.13359375, -0.17234375, -0.16234375, -0.14234375,\n",
       "        -0.13234375],\n",
       "       [-0.16890625, -0.165     , -0.13890625, -0.12359375,  0.        ,\n",
       "        -0.15234375, -0.15234375, -0.17359375, -0.161875  , -0.17359375,\n",
       "        -0.14359375, -0.22234375, -0.17234375, -0.19359375, -0.18359375,\n",
       "        -0.20359375],\n",
       "       [-0.18890625, -0.17359375, -0.14890625, -0.1615625 , -0.15234375,\n",
       "         0.        , -0.17234375, -0.14359375, -0.19359375, -0.21359375,\n",
       "        -0.17359375, -0.16234375, -0.14234375, -0.17359375, -0.16359375,\n",
       "        -0.18359375],\n",
       "       [-0.13890625, -0.13359375, -0.11890625, -0.12234375, -0.15234375,\n",
       "        -0.17234375,  0.        , -0.13359375, -0.14359375, -0.12359375,\n",
       "        -0.13359375, -0.12234375, -0.11671875, -0.15359375, -0.16234375,\n",
       "        -0.14234375],\n",
       "       [-0.22359375, -0.18234375, -0.20359375, -0.14234375, -0.17359375,\n",
       "        -0.14359375, -0.13359375,  0.        , -0.15234375, -0.17234375,\n",
       "        -0.18234375, -0.20359375, -0.13234375, -0.22234375, -0.19234375,\n",
       "        -0.16234375],\n",
       "       [-0.15359375, -0.15234375, -0.19359375, -0.13234375, -0.161875  ,\n",
       "        -0.19359375, -0.14359375, -0.15234375,  0.        , -0.16234375,\n",
       "        -0.21234375, -0.13359375, -0.11234375, -0.18234375, -0.12234375,\n",
       "        -0.15234375],\n",
       "       [-0.23359375, -0.16234375, -0.17359375, -0.17234375, -0.17359375,\n",
       "        -0.21359375, -0.12359375, -0.17234375, -0.16234375,  0.        ,\n",
       "        -0.16234375, -0.21359375, -0.15234375, -0.16234375, -0.21234375,\n",
       "        -0.18234375],\n",
       "       [-0.18359375, -0.14234375, -0.15359375, -0.14234375, -0.14359375,\n",
       "        -0.17359375, -0.13359375, -0.18234375, -0.21234375, -0.16234375,\n",
       "         0.        , -0.16359375, -0.14234375, -0.22234375, -0.14234375,\n",
       "        -0.13234375],\n",
       "       [-0.17890625, -0.18359375, -0.14890625, -0.13359375, -0.22234375,\n",
       "        -0.16234375, -0.12234375, -0.20359375, -0.13359375, -0.21359375,\n",
       "        -0.16359375,  0.        , -0.19234375, -0.20359375, -0.21359375,\n",
       "        -0.2284375 ],\n",
       "       [-0.13171875, -0.16234375, -0.12171875, -0.17234375, -0.17234375,\n",
       "        -0.14234375, -0.11671875, -0.13234375, -0.11234375, -0.15234375,\n",
       "        -0.14234375, -0.19234375,  0.        , -0.16234375, -0.17234375,\n",
       "        -0.20234375],\n",
       "       [-0.18359375, -0.17234375, -0.15359375, -0.16234375, -0.19359375,\n",
       "        -0.17359375, -0.15359375, -0.22234375, -0.18234375, -0.16234375,\n",
       "        -0.22234375, -0.20359375, -0.16234375,  0.        , -0.16234375,\n",
       "        -0.19234375],\n",
       "       [-0.19359375, -0.20234375, -0.16359375, -0.14234375, -0.18359375,\n",
       "        -0.16359375, -0.16234375, -0.19234375, -0.12234375, -0.21234375,\n",
       "        -0.14234375, -0.21359375, -0.17234375, -0.16234375,  0.        ,\n",
       "        -0.20234375],\n",
       "       [-0.16359375, -0.14234375, -0.15359375, -0.13234375, -0.20359375,\n",
       "        -0.18359375, -0.14234375, -0.16234375, -0.15234375, -0.18234375,\n",
       "        -0.13234375, -0.2284375 , -0.20234375, -0.19234375, -0.20234375,\n",
       "         0.        ]])"
      ]
     },
     "execution_count": 37,
     "metadata": {},
     "output_type": "execute_result"
    }
   ],
   "source": [
    "for i in range(1000):\n",
    "    network.update()\n",
    "network.cgroups[1].getbiases()"
   ]
  },
  {
   "cell_type": "code",
   "execution_count": null,
   "metadata": {},
   "outputs": [],
   "source": []
  }
 ],
 "metadata": {
  "kernelspec": {
   "display_name": "Python 3",
   "language": "python",
   "name": "python3"
  },
  "language_info": {
   "codemirror_mode": {
    "name": "ipython",
    "version": 3
   },
   "file_extension": ".py",
   "mimetype": "text/x-python",
   "name": "python",
   "nbconvert_exporter": "python",
   "pygments_lexer": "ipython3",
   "version": "3.6.6"
  }
 },
 "nbformat": 4,
 "nbformat_minor": 4
}

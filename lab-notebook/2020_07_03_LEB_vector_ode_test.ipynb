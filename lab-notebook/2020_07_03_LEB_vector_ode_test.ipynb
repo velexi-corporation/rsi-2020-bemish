{
 "cells": [
  {
   "cell_type": "code",
   "execution_count": 3,
   "metadata": {},
   "outputs": [],
   "source": [
    "from nodes.nodes import FoldiakNode, InputNode\n",
    "from nodes.net import FoldiakShapedNet\n",
    "from nodes.layer import ShapedLayer\n",
    "\n",
    "import random\n",
    "import matplotlib.pyplot as plt\n",
    "\n",
    "random.seed(42)\n",
    "\n",
    "inputlayer = ShapedLayer((8,8))\n",
    "foldiaklayer = ShapedLayer(16)\n",
    "\n",
    "foldiaklayer.fillnodes(FoldiakNode)\n",
    "inputlayer.fillnodes(InputNode)\n",
    "    \n",
    "network = FoldiakShapedNet()\n",
    "network.append(inputlayer)\n",
    "network.append(foldiaklayer)\n",
    "network.connect_foldiak(inputlayer, foldiaklayer)\n",
    "\n",
    "network.setparam(\"a\",0.01)\n",
    "network.setparam(\"b\",0.001)\n",
    "network.setparam(\"y\",0.01)\n",
    "network.setparam(\"p\",1.0/8)\n",
    "network.setparam(\"l\",10)\n",
    "network.setparam(\"intmethod\",\"BDF\")\n",
    "network.setparam(\"dt\",0.1)\n",
    "network.setparam(\"tnum\",100)"
   ]
  },
  {
   "cell_type": "code",
   "execution_count": 2,
   "metadata": {},
   "outputs": [
    {
     "name": "stdout",
     "output_type": "stream",
     "text": [
      "0.023468572999999996\n"
     ]
    }
   ],
   "source": [
    "network.setparam(\"intmethod\",\"BDF\")\n",
    "network.setparam(\"dt\",0.1)\n",
    "network.setparam(\"tnum\",100)\n",
    "network.setup()\n",
    "for i in inputlayer.nodes:\n",
    "    i.setvalstored(random.uniform(0,1))\n",
    "\n",
    "network.update()\n",
    "network.update()\n",
    "\n",
    "import time\n",
    "deltas = []\n",
    "\n",
    "for i in range(200):\n",
    "    t0 = time.clock()\n",
    "    network.update()\n",
    "    t1 = time.clock()\n",
    "    deltas.append(t1-t0)\n",
    "print(sum(deltas)/len(deltas))"
   ]
  },
  {
   "cell_type": "code",
   "execution_count": 4,
   "metadata": {},
   "outputs": [],
   "source": [
    "import numpy as np\n",
    "samples = np.loadtxt(\"../data/lines_noisy.csv\")\n",
    "\n",
    "network.setup()"
   ]
  },
  {
   "cell_type": "code",
   "execution_count": 5,
   "metadata": {},
   "outputs": [],
   "source": [
    "#Steady state thres:\n",
    "network.setparam(\"a\",0.0)\n",
    "network.setparam(\"b\",0.0)\n",
    "network.setparam(\"y\",0.5)\n",
    "for i in range(200):\n",
    "    for i in inputlayer.nodes:\n",
    "        i.setvalstored(random.uniform(0,1))\n",
    "    network.update()"
   ]
  },
  {
   "cell_type": "code",
   "execution_count": 6,
   "metadata": {},
   "outputs": [
    {
     "name": "stdout",
     "output_type": "stream",
     "text": [
      "1000/5000\n",
      "2000/5000\n",
      "3000/5000\n",
      "4000/5000\n",
      "5000/5000\n"
     ]
    }
   ],
   "source": [
    "network.setparam(\"a\",0.01)\n",
    "network.setparam(\"b\",0.001)\n",
    "network.setparam(\"y\",0.01)\n",
    "\n",
    "outnum = 5000\n",
    "innum = 1\n",
    "count = 0\n",
    "\n",
    "for i in range(outnum):\n",
    "    for j in range(len(inputlayer.nodes)):\n",
    "        inputlayer.nodes[j].setvalstored(samples[i,j])\n",
    "    for j in range(innum):\n",
    "        network.update()\n",
    "    count += innum\n",
    "    if ((count%1000)==0):\n",
    "        print(str(count)+\"/\"+str(innum*outnum))"
   ]
  },
  {
   "cell_type": "code",
   "execution_count": 24,
   "metadata": {},
   "outputs": [
    {
     "data": {
      "image/png": "[encoded data removed]",
      "text/plain": [
       "<Figure size 432x288 with 16 Axes>"
      ]
     },
     "metadata": {
      "needs_background": "light"
     },
     "output_type": "display_data"
    }
   ],
   "source": [
    "fig=plt.figure()\n",
    "\n",
    "for node_num in range(len(foldiaklayer.nodes)):\n",
    "    testbias = []\n",
    "    connects = np.reshape(network.cgroups[0].npconnects, -1)\n",
    "    for node in inputlayer.nodes:\n",
    "        for i in connects:\n",
    "            if (i.input is node) and (i.output is foldiaklayer.nodes[node_num]):\n",
    "                testbias.append(i.bias)\n",
    "    fig.add_subplot(4,4,node_num+1)\n",
    "            \n",
    "    plt.imshow(np.array(testbias).reshape((8,8)))\n",
    "fig.tight_layout()\n",
    "#plt.savefig(\"2020_07_07_bias_figure.png\")\n",
    "plt.show()"
   ]
  },
  {
   "cell_type": "code",
   "execution_count": 23,
   "metadata": {},
   "outputs": [
    {
     "data": {
      "image/png": "[encoded data removed]",
      "text/plain": [
       "<Figure size 432x288 with 1 Axes>"
      ]
     },
     "metadata": {
      "needs_background": "light"
     },
     "output_type": "display_data"
    },
    {
     "data": {
      "text/plain": [
       "[0, 0, 0, 0, 0, 0, 0, 0, 0, 0, 0, 0, 0, 0, 0, 0]"
      ]
     },
     "execution_count": 23,
     "metadata": {},
     "output_type": "execute_result"
    }
   ],
   "source": [
    "samplenum = 30\n",
    "plt.imshow(samples[samplenum,:].reshape((8,8)))\n",
    "#plt.savefig(\"2020_07_07_sample_ex.png\")\n",
    "plt.show()\n",
    "for i in range(8*8):\n",
    "    inputlayer.nodes[i].setvalstored(samples[samplenum,i])\n",
    "network.update()\n",
    "output = []\n",
    "for i in foldiaklayer.nodes:\n",
    "    output.append(i.returnval())\n",
    "output"
   ]
  },
  {
   "cell_type": "code",
   "execution_count": 9,
   "metadata": {},
   "outputs": [
    {
     "data": {
      "text/plain": [
       "array([0.078, 0.078, 0.078, 0.078, 0.078, 0.078, 0.078, 0.078, 0.078,\n",
       "       0.078, 0.078, 0.078, 0.078, 0.078, 0.078, 0.078])"
      ]
     },
     "execution_count": 9,
     "metadata": {},
     "output_type": "execute_result"
    }
   ],
   "source": [
    "foldiaklayer.returnshapedthres()"
   ]
  },
  {
   "cell_type": "code",
   "execution_count": 10,
   "metadata": {},
   "outputs": [
    {
     "data": {
      "text/plain": [
       "<matplotlib.image.AxesImage at 0x22161873940>"
      ]
     },
     "execution_count": 10,
     "metadata": {},
     "output_type": "execute_result"
    },
    {
     "data": {
      "image/png": "[encoded data removed]",
      "text/plain": [
       "<Figure size 432x288 with 1 Axes>"
      ]
     },
     "metadata": {
      "needs_background": "light"
     },
     "output_type": "display_data"
    }
   ],
   "source": [
    "plt.imshow(inputlayer.returnshapedvals())"
   ]
  },
  {
   "cell_type": "code",
   "execution_count": 12,
   "metadata": {},
   "outputs": [
    {
     "data": {
      "text/plain": [
       "(64, 16)"
      ]
     },
     "execution_count": 12,
     "metadata": {},
     "output_type": "execute_result"
    }
   ],
   "source": [
    "hcs = network.cgroups[0].npconnects\n",
    "hcs.shape"
   ]
  },
  {
   "cell_type": "code",
   "execution_count": 13,
   "metadata": {},
   "outputs": [
    {
     "data": {
      "text/plain": [
       "0.0734634310903934"
      ]
     },
     "execution_count": 13,
     "metadata": {},
     "output_type": "execute_result"
    }
   ],
   "source": [
    "hcs[2,2].bias"
   ]
  },
  {
   "cell_type": "code",
   "execution_count": 14,
   "metadata": {},
   "outputs": [
    {
     "data": {
      "text/plain": [
       "(16, 16)"
      ]
     },
     "execution_count": 14,
     "metadata": {},
     "output_type": "execute_result"
    }
   ],
   "source": [
    "ahcs = network.cgroups[1].npconnects\n",
    "ahcs.shape"
   ]
  },
  {
   "cell_type": "code",
   "execution_count": 15,
   "metadata": {},
   "outputs": [
    {
     "data": {
      "text/plain": [
       "-4.214687500000122"
      ]
     },
     "execution_count": 15,
     "metadata": {},
     "output_type": "execute_result"
    }
   ],
   "source": [
    "ahcs[0,5].bias"
   ]
  },
  {
   "cell_type": "code",
   "execution_count": 20,
   "metadata": {},
   "outputs": [
    {
     "data": {
      "text/plain": [
       "0.07279884787331553"
      ]
     },
     "execution_count": 20,
     "metadata": {},
     "output_type": "execute_result"
    }
   ],
   "source": [
    "hcs[2,0].bias"
   ]
  },
  {
   "cell_type": "code",
   "execution_count": 13,
   "metadata": {},
   "outputs": [],
   "source": [
    "for i in range(200):\n",
    "    network.update()"
   ]
  },
  {
   "cell_type": "code",
   "execution_count": 25,
   "metadata": {},
   "outputs": [],
   "source": [
    "ode1 = network.diffeqs[0]"
   ]
  },
  {
   "cell_type": "code",
   "execution_count": 26,
   "metadata": {},
   "outputs": [
    {
     "data": {
      "text/plain": [
       "array([1.37238313, 1.37101954, 1.37337753, 1.37328867, 1.37377774,\n",
       "       1.37391873, 1.3725841 , 1.37379907, 1.37415575, 1.37436688,\n",
       "       1.37327958, 1.37288816, 1.37397562, 1.37230003, 1.37192915,\n",
       "       1.37373493])"
      ]
     },
     "execution_count": 26,
     "metadata": {},
     "output_type": "execute_result"
    }
   ],
   "source": [
    "ode1.getxsum()"
   ]
  },
  {
   "cell_type": "code",
   "execution_count": 27,
   "metadata": {},
   "outputs": [
    {
     "data": {
      "text/plain": [
       "array([0.        , 0.        , 0.        , 0.        , 0.        ,\n",
       "       0.02549882, 0.67308184, 0.        , 0.07422102, 0.        ,\n",
       "       0.11168013, 0.        , 0.00912673, 0.063199  , 0.53955178,\n",
       "       0.        , 0.01189012, 0.        , 0.        , 0.26197707,\n",
       "       0.        , 0.        , 0.69882088, 0.        , 0.        ,\n",
       "       0.0692486 , 0.05138262, 0.02388783, 0.04882099, 0.        ,\n",
       "       0.73361131, 0.        , 0.06057727, 0.05218865, 0.03712566,\n",
       "       0.        , 0.        , 0.15202092, 0.61415993, 0.1118156 ,\n",
       "       0.        , 0.08752689, 0.00520684, 0.19454071, 0.        ,\n",
       "       0.        , 0.78651037, 0.        , 0.7219019 , 0.5725052 ,\n",
       "       0.56238288, 0.6850365 , 0.70405158, 0.52498874, 0.61878864,\n",
       "       0.63812121, 0.01164501, 0.        , 0.        , 0.        ,\n",
       "       0.        , 0.04417138, 0.57041828, 0.12320284])"
      ]
     },
     "execution_count": 27,
     "metadata": {},
     "output_type": "execute_result"
    }
   ],
   "source": [
    "ode1.qs.input.returnvals()"
   ]
  },
  {
   "cell_type": "code",
   "execution_count": 30,
   "metadata": {},
   "outputs": [
    {
     "data": {
      "text/plain": [
       "array([[0.07397537, 0.05141453, 0.05280859, ..., 0.05267589, 0.05233841,\n",
       "        0.05310036],\n",
       "       [0.07700911, 0.07749285, 0.07712505, ..., 0.07715499, 0.07668261,\n",
       "        0.07669194],\n",
       "       [0.07279885, 0.0739668 , 0.07346343, ..., 0.07368661, 0.0727327 ,\n",
       "        0.07238921],\n",
       "       ...,\n",
       "       [0.21076512, 0.2114944 , 0.21135948, ..., 0.21122618, 0.21239372,\n",
       "        0.21158435],\n",
       "       [0.11140536, 0.11052244, 0.1115734 , ..., 0.1105153 , 0.11109376,\n",
       "        0.11150945],\n",
       "       [0.13140406, 0.13274758, 0.13125493, ..., 0.13175454, 0.13229823,\n",
       "        0.13244638]])"
      ]
     },
     "execution_count": 30,
     "metadata": {},
     "output_type": "execute_result"
    }
   ],
   "source": [
    "ode1.qs.getbiases()"
   ]
  },
  {
   "cell_type": "code",
   "execution_count": null,
   "metadata": {},
   "outputs": [],
   "source": []
  }
 ],
 "metadata": {
  "kernelspec": {
   "display_name": "Python 3",
   "language": "python",
   "name": "python3"
  },
  "language_info": {
   "codemirror_mode": {
    "name": "ipython",
    "version": 3
   },
   "file_extension": ".py",
   "mimetype": "text/x-python",
   "name": "python",
   "nbconvert_exporter": "python",
   "pygments_lexer": "ipython3",
   "version": "3.6.6"
  }
 },
 "nbformat": 4,
 "nbformat_minor": 4
}

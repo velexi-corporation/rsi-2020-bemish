{
 "cells": [
  {
   "cell_type": "code",
   "execution_count": 1,
   "metadata": {},
   "outputs": [],
   "source": [
    "from nodes.nodes import FoldiakNode, InputNode\n",
    "from nodes.net import FoldiakShapedNet\n",
    "from nodes.layer import ShapedLayer\n",
    "\n",
    "import random\n",
    "import matplotlib.pyplot as plt\n",
    "\n",
    "random.seed(42)\n",
    "\n",
    "inputlayer = ShapedLayer((8,8))\n",
    "foldiaklayer = ShapedLayer(16)\n",
    "\n",
    "foldiaklayer.fillnodes(FoldiakNode)\n",
    "inputlayer.fillnodes(InputNode)\n",
    "    \n",
    "network = FoldiakShapedNet()\n",
    "network.append(inputlayer)\n",
    "network.append(foldiaklayer)\n",
    "network.connect_foldiak(inputlayer, foldiaklayer)\n",
    "\n",
    "network.setparam(\"intmethod\",\"BDF\")\n",
    "\n",
    "network.setparam(\"a\",0.01)\n",
    "network.setparam(\"b\",0.001)\n",
    "network.setparam(\"y\",0.01)\n",
    "network.setparam(\"p\",1.0/8)\n",
    "network.setparam(\"l\",10)\n",
    "network.setparam(\"dt\",0.05)\n",
    "network.setparam(\"tnum\",100)"
   ]
  },
  {
   "cell_type": "code",
   "execution_count": 2,
   "metadata": {},
   "outputs": [
    {
     "name": "stdout",
     "output_type": "stream",
     "text": [
      "0.019664124000000005\n"
     ]
    }
   ],
   "source": [
    "#network.setparam(\"intmethod\",\"BDF\")\n",
    "network.setup()\n",
    "for i in inputlayer.nodes:\n",
    "    i.setvalstored(random.uniform(0,1))\n",
    "\n",
    "network.update()\n",
    "network.update()\n",
    "\n",
    "import time\n",
    "deltas = []\n",
    "\n",
    "for i in range(200):\n",
    "    t0 = time.clock()\n",
    "    network.update()\n",
    "    t1 = time.clock()\n",
    "    deltas.append(t1-t0)\n",
    "print(sum(deltas)/len(deltas))"
   ]
  },
  {
   "cell_type": "code",
   "execution_count": 3,
   "metadata": {},
   "outputs": [],
   "source": [
    "import numpy as np\n",
    "samples = np.loadtxt(\"../data/lines.csv\")\n",
    "\n",
    "network.setup()"
   ]
  },
  {
   "cell_type": "code",
   "execution_count": 4,
   "metadata": {},
   "outputs": [],
   "source": [
    "#Steady state thres:\n",
    "network.setparam(\"a\",0.0)\n",
    "network.setparam(\"b\",0.0)\n",
    "network.setparam(\"y\",0.5)\n",
    "for i in range(200):\n",
    "    for i in inputlayer.nodes:\n",
    "        i.setvalstored(random.uniform(0,1))\n",
    "    network.update()"
   ]
  },
  {
   "cell_type": "code",
   "execution_count": 5,
   "metadata": {},
   "outputs": [
    {
     "name": "stdout",
     "output_type": "stream",
     "text": [
      "1000/25000\n",
      "2000/25000\n",
      "3000/25000\n",
      "4000/25000\n",
      "5000/25000\n",
      "6000/25000\n",
      "7000/25000\n",
      "8000/25000\n",
      "9000/25000\n",
      "10000/25000\n",
      "11000/25000\n",
      "12000/25000\n",
      "13000/25000\n",
      "14000/25000\n",
      "15000/25000\n",
      "16000/25000\n",
      "17000/25000\n",
      "18000/25000\n",
      "19000/25000\n",
      "20000/25000\n",
      "21000/25000\n",
      "22000/25000\n",
      "23000/25000\n",
      "24000/25000\n",
      "25000/25000\n"
     ]
    }
   ],
   "source": [
    "network.setparam(\"a\",0.01)\n",
    "network.setparam(\"b\",0.001)\n",
    "network.setparam(\"y\",0.01)\n",
    "\n",
    "outnum = 5000\n",
    "innum = 5\n",
    "count = 0\n",
    "\n",
    "for i in range(outnum):\n",
    "    for j in range(len(inputlayer.nodes)):\n",
    "        inputlayer.nodes[j].setvalstored(samples[i,j])\n",
    "    for j in range(innum):\n",
    "        network.update()\n",
    "    count += innum\n",
    "    if ((count%1000)==0):\n",
    "        print(str(count)+\"/\"+str(innum*outnum))"
   ]
  },
  {
   "cell_type": "code",
   "execution_count": 6,
   "metadata": {},
   "outputs": [
    {
     "data": {
      "image/png": "[encoded data removed]",
      "text/plain": [
       "<Figure size 432x288 with 16 Axes>"
      ]
     },
     "metadata": {
      "needs_background": "light"
     },
     "output_type": "display_data"
    }
   ],
   "source": [
    "fig=plt.figure()\n",
    "\n",
    "for node_num in range(len(foldiaklayer.nodes)):\n",
    "    testbias = []\n",
    "    connects = np.reshape(network.cgroups[0].npconnects, -1)\n",
    "    for node in inputlayer.nodes:\n",
    "        for i in connects:\n",
    "            if (i.input is node) and (i.output is foldiaklayer.nodes[node_num]):\n",
    "                testbias.append(i.bias)\n",
    "    fig.add_subplot(4,4,node_num+1)\n",
    "            \n",
    "    plt.imshow(np.array(testbias).reshape((8,8)))\n",
    "fig.tight_layout()\n",
    "plt.savefig(\"2020_07_07_bias_figure.png\")\n",
    "plt.show()"
   ]
  },
  {
   "cell_type": "code",
   "execution_count": 9,
   "metadata": {},
   "outputs": [
    {
     "data": {
      "image/png": "[encoded data removed]",
      "text/plain": [
       "<Figure size 432x288 with 1 Axes>"
      ]
     },
     "metadata": {
      "needs_background": "light"
     },
     "output_type": "display_data"
    },
    {
     "data": {
      "text/plain": [
       "[0, 1, 1, 0, 0, 0, 0, 0, 0, 0, 0, 0, 0, 0, 0, 1]"
      ]
     },
     "execution_count": 9,
     "metadata": {},
     "output_type": "execute_result"
    }
   ],
   "source": [
    "samplenum = 30\n",
    "plt.imshow(samples[samplenum,:].reshape((8,8)))\n",
    "plt.savefig(\"2020_07_07_sample_ex.png\")\n",
    "plt.show()\n",
    "for i in range(8*8):\n",
    "    inputlayer.nodes[i].setvalstored(samples[samplenum,i])\n",
    "network.update()\n",
    "output = []\n",
    "for i in foldiaklayer.nodes:\n",
    "    output.append(i.returnval())\n",
    "output"
   ]
  },
  {
   "cell_type": "code",
   "execution_count": 11,
   "metadata": {},
   "outputs": [
    {
     "data": {
      "image/png": "[encoded data removed]",
      "text/plain": [
       "<Figure size 432x288 with 1 Axes>"
      ]
     },
     "metadata": {
      "needs_background": "light"
     },
     "output_type": "display_data"
    }
   ],
   "source": [
    "plt.imshow(network.cgroups[1].getbiases())\n",
    "plt.savefig(\"2020_07_07_inhibition_ex.png\")\n",
    "plt.show()"
   ]
  },
  {
   "cell_type": "code",
   "execution_count": null,
   "metadata": {},
   "outputs": [],
   "source": []
  }
 ],
 "metadata": {
  "kernelspec": {
   "display_name": "Python 3",
   "language": "python",
   "name": "python3"
  },
  "language_info": {
   "codemirror_mode": {
    "name": "ipython",
    "version": 3
   },
   "file_extension": ".py",
   "mimetype": "text/x-python",
   "name": "python",
   "nbconvert_exporter": "python",
   "pygments_lexer": "ipython3",
   "version": "3.6.6"
  }
 },
 "nbformat": 4,
 "nbformat_minor": 4
}

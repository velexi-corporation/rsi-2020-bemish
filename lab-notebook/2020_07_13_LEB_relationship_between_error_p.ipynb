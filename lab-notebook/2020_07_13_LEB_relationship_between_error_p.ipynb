{
 "cells": [
  {
   "cell_type": "code",
   "execution_count": 1,
   "metadata": {},
   "outputs": [],
   "source": [
    "from nodes.nodes import FoldiakNode, InputNode\n",
    "from nodes.net import FoldiakShapedNet\n",
    "from nodes.layer import ShapedLayer\n",
    "\n",
    "import random\n",
    "import matplotlib.pyplot as plt\n",
    "import numpy as np\n",
    "\n",
    "random.seed(42)\n",
    "\n",
    "\n",
    "def reset_network(p):\n",
    "    random.seed(42)\n",
    "\n",
    "    inputlayer = ShapedLayer((8,8))\n",
    "    foldiaklayer = ShapedLayer(16)\n",
    "\n",
    "    foldiaklayer.fillnodes(FoldiakNode)\n",
    "    inputlayer.fillnodes(InputNode)\n",
    "\n",
    "    network = FoldiakShapedNet()\n",
    "    network.append(inputlayer)\n",
    "    network.append(foldiaklayer)\n",
    "    network.connect_foldiak(inputlayer, foldiaklayer)\n",
    "\n",
    "    network.setparam(\"a\",0.1)\n",
    "    network.setparam(\"b\",0.02)\n",
    "    network.setparam(\"y\",0.02)\n",
    "    network.setparam(\"p\",p)\n",
    "    network.setparam(\"l\",10)\n",
    "    network.setparam(\"intmethod\",\"LSODA\")\n",
    "    network.setparam(\"tmax\",100)\n",
    "    \n",
    "    return inputlayer, foldiaklayer, network"
   ]
  },
  {
   "cell_type": "code",
   "execution_count": 2,
   "metadata": {},
   "outputs": [],
   "source": [
    "samples = np.loadtxt(\"../data/lines_keyed.csv\")\n",
    "keys = np.loadtxt(\"../data/lines_keys.csv\")\n",
    "\n",
    "possibletypes = []\n",
    "for i in range(8):\n",
    "    sample = np.zeros((8,8))\n",
    "    sample[i,:] = 1\n",
    "    possibletypes.append(sample)\n",
    "for i in range(8):\n",
    "    sample = np.zeros((8,8))\n",
    "    sample[:,i] = 1\n",
    "    possibletypes.append(sample)\n",
    "\n",
    "key_errors = []"
   ]
  },
  {
   "cell_type": "code",
   "execution_count": 3,
   "metadata": {},
   "outputs": [],
   "source": [
    "inputlayer, foldiaklayer, network = reset_network(0.025)"
   ]
  },
  {
   "cell_type": "code",
   "execution_count": 4,
   "metadata": {},
   "outputs": [],
   "source": [
    "#setup code: the two network.update calls handle numba jit compilations.\n",
    "def net_reset(p):\n",
    "    network.setup()\n",
    "    network.setup()\n",
    "    #Steady state thres:\n",
    "    network.setparam(\"a\",0.0)\n",
    "    network.setparam(\"b\",0.0)\n",
    "    network.setparam(\"y\",0.5)\n",
    "    for i in range(200):\n",
    "        for i in inputlayer.nodes:\n",
    "            i.setvalstored(random.uniform(0,1))\n",
    "        network.update()\n",
    "    network.setparam(\"a\",0.1)\n",
    "    network.setparam(\"b\",0.02)\n",
    "    network.setparam(\"y\",0.02)\n",
    "\n",
    "def timenet(nbefore, nafter):\n",
    "    for i in range(nbefore):\n",
    "        inputlayer.setvals(samples[i,:])\n",
    "        network.update()\n",
    "    permutation = [0,0,0,0,0,0,0,0,\n",
    "                   0,0,0,0,0,0,0,0]\n",
    "    outimages = []\n",
    "\n",
    "    for j in range(16):\n",
    "        lowestmin = 64\n",
    "        outimage = np.zeros((8,8))\n",
    "        goestonum = 0\n",
    "        tnum = 0\n",
    "        for i in possibletypes:\n",
    "            mem = np.reshape(network.cgroups[0].getbiases()[:,j],(8,8))\n",
    "            mem = mem/mem.max()\n",
    "            er = np.sum(np.abs(mem - i))\n",
    "            #print(er)\n",
    "            if (er < lowestmin):\n",
    "                lowestmin = er\n",
    "                outimage = np.abs(mem-i)\n",
    "                goestonum = tnum\n",
    "            tnum += 1\n",
    "        outimages.append(outimage)\n",
    "        permutation[goestonum] = j\n",
    "        \n",
    "    \n",
    "    idx = np.empty_like(permutation)\n",
    "    idx[permutation] = np.arange(len(permutation))\n",
    "    \n",
    "    output_keys = np.zeros((nafter,16))\n",
    "    \n",
    "    test_keys_this = keys[nbefore:nbefore+nafter, idx]\n",
    "    test_samples_this = samples[nbefore:nbefore+nafter]\n",
    "    \n",
    "    for i in range(nafter):\n",
    "        inputlayer.setvals(test_samples_this[i,:])\n",
    "        network.update()\n",
    "        output_keys[i,:] = foldiaklayer.returnvals()\n",
    "\n",
    "    key_errors.append(np.sum(np.abs(test_keys_this-output_keys))/np.sum(test_keys_this))"
   ]
  },
  {
   "cell_type": "code",
   "execution_count": 5,
   "metadata": {},
   "outputs": [],
   "source": [
    "#ps go from 0.025 to 0.350, by 0.025\n",
    "ps = [0.000, 0.025, 0.050, 0.075, 0.100, 0.125, 0.150, 0.175, 0.200, 0.225, 0.250, 0.275, 0.300, 0.325, 0.350]"
   ]
  },
  {
   "cell_type": "code",
   "execution_count": 6,
   "metadata": {},
   "outputs": [
    {
     "name": "stdout",
     "output_type": "stream",
     "text": [
      "Finished testing: 0.0\n",
      "Finished testing: 0.025\n",
      "Finished testing: 0.05\n",
      "Finished testing: 0.075\n",
      "Finished testing: 0.1\n",
      "Finished testing: 0.125\n",
      "Finished testing: 0.15\n",
      "Finished testing: 0.175\n",
      "Finished testing: 0.2\n",
      "Finished testing: 0.225\n",
      "Finished testing: 0.25\n",
      "Finished testing: 0.275\n",
      "Finished testing: 0.3\n",
      "Finished testing: 0.325\n",
      "Finished testing: 0.35\n"
     ]
    }
   ],
   "source": [
    "for i in ps:\n",
    "    inputlayer, foldiaklayer, network = reset_network(i)\n",
    "    net_reset(i)\n",
    "    timenet(40000, 5000)\n",
    "    print(\"Finished testing: \"+str(i))"
   ]
  },
  {
   "cell_type": "code",
   "execution_count": 7,
   "metadata": {},
   "outputs": [
    {
     "data": {
      "image/png": "[encoded data removed]",
      "text/plain": [
       "<Figure size 432x288 with 1 Axes>"
      ]
     },
     "metadata": {
      "needs_background": "light"
     },
     "output_type": "display_data"
    }
   ],
   "source": [
    "plt.plot(ps, key_errors)\n",
    "plt.xlabel(\"p\")\n",
    "plt.ylabel(\"key error\")\n",
    "plt.savefig(\"images/2020_07_14_LEB_key_error_v_p\")\n",
    "plt.show()"
   ]
  },
  {
   "cell_type": "code",
   "execution_count": 11,
   "metadata": {},
   "outputs": [
    {
     "data": {
      "text/plain": [
       "[0.7915599713202909,\n",
       " 0.38686879033084093,\n",
       " 0.026938441052955033,\n",
       " 0.44402335347741473,\n",
       " 1.3054076198279394,\n",
       " 1.8708920187793427,\n",
       " 2.439873739945016]"
      ]
     },
     "execution_count": 11,
     "metadata": {},
     "output_type": "execute_result"
    }
   ],
   "source": [
    "key_errors"
   ]
  },
  {
   "cell_type": "code",
   "execution_count": 13,
   "metadata": {},
   "outputs": [
    {
     "ename": "NameError",
     "evalue": "name 'test_keys_this' is not defined",
     "output_type": "error",
     "traceback": [
      "\u001b[1;31m---------------------------------------------------------------------------\u001b[0m",
      "\u001b[1;31mNameError\u001b[0m                                 Traceback (most recent call last)",
      "\u001b[1;32m<ipython-input-13-3191f0b4eed7>\u001b[0m in \u001b[0;36m<module>\u001b[1;34m\u001b[0m\n\u001b[1;32m----> 1\u001b[1;33m \u001b[0mplt\u001b[0m\u001b[1;33m.\u001b[0m\u001b[0mimshow\u001b[0m\u001b[1;33m(\u001b[0m\u001b[1;33m(\u001b[0m\u001b[0mtest_keys_this\u001b[0m\u001b[1;33m-\u001b[0m\u001b[0moutput_keys\u001b[0m\u001b[1;33m)\u001b[0m\u001b[1;33m[\u001b[0m\u001b[1;33m:\u001b[0m\u001b[1;36m100\u001b[0m\u001b[1;33m,\u001b[0m\u001b[1;33m:\u001b[0m\u001b[1;33m]\u001b[0m\u001b[1;33m)\u001b[0m\u001b[1;33m\u001b[0m\u001b[0m\n\u001b[0m\u001b[0;32m      2\u001b[0m \u001b[0mplt\u001b[0m\u001b[1;33m.\u001b[0m\u001b[0mshow\u001b[0m\u001b[1;33m(\u001b[0m\u001b[1;33m)\u001b[0m\u001b[1;33m\u001b[0m\u001b[0m\n\u001b[0;32m      3\u001b[0m \u001b[1;33m\u001b[0m\u001b[0m\n\u001b[0;32m      4\u001b[0m \u001b[0mprint\u001b[0m\u001b[1;33m(\u001b[0m\u001b[0mnp\u001b[0m\u001b[1;33m.\u001b[0m\u001b[0msum\u001b[0m\u001b[1;33m(\u001b[0m\u001b[0moutput_keys\u001b[0m\u001b[1;33m)\u001b[0m\u001b[1;33m/\u001b[0m\u001b[1;36m16000\u001b[0m\u001b[1;33m)\u001b[0m\u001b[1;33m\u001b[0m\u001b[0m\n\u001b[0;32m      5\u001b[0m \u001b[0mprint\u001b[0m\u001b[1;33m(\u001b[0m\u001b[0mnp\u001b[0m\u001b[1;33m.\u001b[0m\u001b[0msum\u001b[0m\u001b[1;33m(\u001b[0m\u001b[0mtest_keys_this\u001b[0m\u001b[1;33m)\u001b[0m\u001b[1;33m/\u001b[0m\u001b[1;36m16000\u001b[0m\u001b[1;33m)\u001b[0m\u001b[1;33m\u001b[0m\u001b[0m\n",
      "\u001b[1;31mNameError\u001b[0m: name 'test_keys_this' is not defined"
     ]
    }
   ],
   "source": [
    "plt.imshow((test_keys_this-output_keys)[:100,:])\n",
    "plt.show()\n",
    "\n",
    "print(np.sum(output_keys)/16000)\n",
    "print(np.sum(test_keys_this)/16000)"
   ]
  },
  {
   "cell_type": "code",
   "execution_count": 14,
   "metadata": {},
   "outputs": [
    {
     "data": {
      "image/png": "[encoded data removed]",
      "text/plain": [
       "<Figure size 432x288 with 1 Axes>"
      ]
     },
     "metadata": {
      "needs_background": "light"
     },
     "output_type": "display_data"
    }
   ],
   "source": [
    "plt.imshow(network.cgroups[1].getbiases())\n",
    "plt.show()"
   ]
  },
  {
   "cell_type": "code",
   "execution_count": 15,
   "metadata": {},
   "outputs": [
    {
     "data": {
      "image/png": "[encoded data removed]",
      "text/plain": [
       "<Figure size 432x288 with 16 Axes>"
      ]
     },
     "metadata": {
      "needs_background": "light"
     },
     "output_type": "display_data"
    }
   ],
   "source": [
    "fig=plt.figure()\n",
    "\n",
    "for node_num in range(len(foldiaklayer.nodes)):\n",
    "    testbias = []\n",
    "    connects = np.reshape(network.cgroups[0].npconnects, -1)\n",
    "    for node in inputlayer.nodes:\n",
    "        for i in connects:\n",
    "            if (i.input is node) and (i.output is foldiaklayer.nodes[node_num]):\n",
    "                testbias.append(i.bias)\n",
    "    fig.add_subplot(4,4,node_num+1)\n",
    "            \n",
    "    plt.imshow(np.array(testbias).reshape((8,8)))\n",
    "fig.tight_layout()\n",
    "plt.show()"
   ]
  },
  {
   "cell_type": "code",
   "execution_count": null,
   "metadata": {},
   "outputs": [],
   "source": []
  }
 ],
 "metadata": {
  "kernelspec": {
   "display_name": "Python 3",
   "language": "python",
   "name": "python3"
  },
  "language_info": {
   "codemirror_mode": {
    "name": "ipython",
    "version": 3
   },
   "file_extension": ".py",
   "mimetype": "text/x-python",
   "name": "python",
   "nbconvert_exporter": "python",
   "pygments_lexer": "ipython3",
   "version": "3.6.6"
  }
 },
 "nbformat": 4,
 "nbformat_minor": 4
}

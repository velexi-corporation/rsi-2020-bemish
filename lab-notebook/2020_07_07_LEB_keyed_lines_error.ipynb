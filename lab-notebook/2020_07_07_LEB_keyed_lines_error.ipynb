{
 "cells": [
  {
   "cell_type": "code",
   "execution_count": 1,
   "metadata": {},
   "outputs": [],
   "source": [
    "import numpy as np\n",
    "from nodes.nodes import FoldiakNode, InputNode\n",
    "from nodes.net import FoldiakShapedNet\n",
    "from nodes.layer import ShapedLayer\n",
    "\n",
    "import random\n",
    "import matplotlib.pyplot as plt\n",
    "\n",
    "random.seed(42)\n",
    "\n",
    "inputlayer = ShapedLayer((8,8))\n",
    "foldiaklayer = ShapedLayer(16)\n",
    "\n",
    "foldiaklayer.fillnodes(FoldiakNode)\n",
    "inputlayer.fillnodes(InputNode)\n",
    "    \n",
    "network = FoldiakShapedNet()\n",
    "network.append(inputlayer)\n",
    "network.append(foldiaklayer)\n",
    "network.connect_foldiak(inputlayer, foldiaklayer)\n",
    "\n",
    "network.setparam(\"intmethod\",\"LSODA\")\n",
    "network.setparam(\"a\",0.01)\n",
    "network.setparam(\"b\",0.001)\n",
    "network.setparam(\"y\",0.01)\n",
    "network.setparam(\"p\",1.0/8)\n",
    "network.setparam(\"l\",10)\n",
    "network.setparam(\"tmax\",100)"
   ]
  },
  {
   "cell_type": "code",
   "execution_count": 2,
   "metadata": {},
   "outputs": [],
   "source": [
    "network.setup()\n",
    "network.setup()"
   ]
  },
  {
   "cell_type": "code",
   "execution_count": 3,
   "metadata": {},
   "outputs": [],
   "source": [
    "samples = np.loadtxt(\"../data/lines_keyed.csv\")\n",
    "keys = np.loadtxt(\"../data/lines_keys.csv\")"
   ]
  },
  {
   "cell_type": "code",
   "execution_count": 4,
   "metadata": {},
   "outputs": [
    {
     "name": "stdout",
     "output_type": "stream",
     "text": [
      "(100000, 64)\n",
      "(100000, 16)\n"
     ]
    }
   ],
   "source": [
    "print(samples.shape)\n",
    "print(keys.shape)"
   ]
  },
  {
   "cell_type": "code",
   "execution_count": 5,
   "metadata": {},
   "outputs": [],
   "source": [
    "train = samples[25000:]"
   ]
  },
  {
   "cell_type": "code",
   "execution_count": 6,
   "metadata": {},
   "outputs": [],
   "source": [
    "#Steady state thres:\n",
    "network.setparam(\"a\",0.0)\n",
    "network.setparam(\"b\",0.0)\n",
    "network.setparam(\"y\",0.5)\n",
    "for i in range(200):\n",
    "    for i in inputlayer.nodes:\n",
    "        i.setvalstored(random.uniform(0,1))\n",
    "    network.update()"
   ]
  },
  {
   "cell_type": "code",
   "execution_count": 7,
   "metadata": {
    "collapsed": true,
    "jupyter": {
     "outputs_hidden": true
    }
   },
   "outputs": [
    {
     "name": "stdout",
     "output_type": "stream",
     "text": [
      "1000/75000\n",
      "2000/75000\n",
      "3000/75000\n",
      "4000/75000\n",
      "5000/75000\n",
      "6000/75000\n",
      "7000/75000\n",
      "8000/75000\n",
      "9000/75000\n",
      "10000/75000\n",
      "11000/75000\n",
      "12000/75000\n",
      "13000/75000\n",
      "14000/75000\n",
      "15000/75000\n",
      "16000/75000\n",
      "17000/75000\n",
      "18000/75000\n",
      "19000/75000\n",
      "20000/75000\n",
      "21000/75000\n",
      "22000/75000\n",
      "23000/75000\n",
      "24000/75000\n",
      "25000/75000\n",
      "26000/75000\n",
      "27000/75000\n",
      "28000/75000\n",
      "29000/75000\n",
      "30000/75000\n",
      "31000/75000\n",
      "32000/75000\n",
      "33000/75000\n",
      "34000/75000\n",
      "35000/75000\n",
      "36000/75000\n",
      "37000/75000\n",
      "38000/75000\n",
      "39000/75000\n",
      "40000/75000\n",
      "41000/75000\n",
      "42000/75000\n",
      "43000/75000\n",
      "44000/75000\n",
      "45000/75000\n",
      "46000/75000\n",
      "47000/75000\n",
      "48000/75000\n",
      "49000/75000\n",
      "50000/75000\n",
      "51000/75000\n",
      "52000/75000\n",
      "53000/75000\n",
      "54000/75000\n",
      "55000/75000\n",
      "56000/75000\n",
      "57000/75000\n",
      "58000/75000\n",
      "59000/75000\n",
      "60000/75000\n",
      "61000/75000\n",
      "62000/75000\n",
      "63000/75000\n",
      "64000/75000\n",
      "65000/75000\n",
      "66000/75000\n",
      "67000/75000\n",
      "68000/75000\n",
      "69000/75000\n",
      "70000/75000\n",
      "71000/75000\n",
      "72000/75000\n",
      "73000/75000\n",
      "74000/75000\n",
      "75000/75000\n"
     ]
    }
   ],
   "source": [
    "network.setparam(\"a\",0.01)\n",
    "network.setparam(\"b\",0.001)\n",
    "network.setparam(\"y\",0.01)\n",
    "\n",
    "\n",
    "maxnum = train.shape[0]\n",
    "\n",
    "for i in range(train.shape[0]):\n",
    "    inputlayer.setvals(train[i,:])\n",
    "    network.update()\n",
    "    if (i%1000)==999:\n",
    "        print(str(i+1)+\"/\"+str(maxnum))"
   ]
  },
  {
   "cell_type": "code",
   "execution_count": 20,
   "metadata": {},
   "outputs": [
    {
     "data": {
      "image/png": "[encoded data removed]",
      "text/plain": [
       "<Figure size 432x288 with 16 Axes>"
      ]
     },
     "metadata": {
      "needs_background": "light"
     },
     "output_type": "display_data"
    }
   ],
   "source": [
    "fig=plt.figure()\n",
    "\n",
    "for node_num in range(len(foldiaklayer.nodes)):\n",
    "    testbias = []\n",
    "    connects = np.reshape(network.cgroups[0].npconnects, -1)\n",
    "    for node in inputlayer.nodes:\n",
    "        for i in connects:\n",
    "            if (i.input is node) and (i.output is foldiaklayer.nodes[node_num]):\n",
    "                testbias.append(i.bias)\n",
    "    fig.add_subplot(4,4,node_num+1)\n",
    "            \n",
    "    plt.imshow(np.array(testbias).reshape((8,8)))\n",
    "fig.tight_layout()\n",
    "#plt.savefig(\"2020_07_07_bias_figure.png\")\n",
    "plt.show()"
   ]
  },
  {
   "cell_type": "code",
   "execution_count": 11,
   "metadata": {},
   "outputs": [],
   "source": [
    "permutation = [0, 5, 1, 4, 2, 10, 12, 3,\n",
    "               9, 8, 6, 7, 11, 14, 13, 15]\n",
    "idx = np.empty_like(permutation)\n",
    "idx[permutation] = np.arange(len(permutation))"
   ]
  },
  {
   "cell_type": "code",
   "execution_count": 12,
   "metadata": {},
   "outputs": [
    {
     "data": {
      "image/png": "[encoded data removed]",
      "text/plain": [
       "<Figure size 432x288 with 1 Axes>"
      ]
     },
     "metadata": {
      "needs_background": "light"
     },
     "output_type": "display_data"
    },
    {
     "data": {
      "image/png": "[encoded data removed]",
      "text/plain": [
       "<Figure size 432x288 with 1 Axes>"
      ]
     },
     "metadata": {
      "needs_background": "light"
     },
     "output_type": "display_data"
    }
   ],
   "source": [
    "plt.imshow(np.reshape(samples[1,:], (8,8)))\n",
    "plt.show()\n",
    "plt.imshow(np.reshape(keys[1,:], (1,16)))\n",
    "plt.show()"
   ]
  },
  {
   "cell_type": "code",
   "execution_count": 13,
   "metadata": {},
   "outputs": [],
   "source": [
    "test_samples = samples[:25000]\n",
    "test_keys = keys[:25000, idx]"
   ]
  },
  {
   "cell_type": "code",
   "execution_count": 14,
   "metadata": {},
   "outputs": [
    {
     "name": "stdout",
     "output_type": "stream",
     "text": [
      "1000/75000\n",
      "2000/75000\n",
      "3000/75000\n",
      "4000/75000\n",
      "5000/75000\n",
      "6000/75000\n",
      "7000/75000\n",
      "8000/75000\n",
      "9000/75000\n",
      "10000/75000\n",
      "11000/75000\n",
      "12000/75000\n",
      "13000/75000\n",
      "14000/75000\n",
      "15000/75000\n",
      "16000/75000\n",
      "17000/75000\n",
      "18000/75000\n",
      "19000/75000\n",
      "20000/75000\n",
      "21000/75000\n",
      "22000/75000\n",
      "23000/75000\n",
      "24000/75000\n",
      "25000/75000\n"
     ]
    }
   ],
   "source": [
    "output_keys = np.zeros((25000,16))\n",
    "\n",
    "for i in range(test_samples.shape[0]):\n",
    "    inputlayer.setvals(test_samples[i,:])\n",
    "    network.update()\n",
    "    output_keys[i,:] = foldiaklayer.returnvals()\n",
    "    if (i%1000)==999:\n",
    "        print(str(i+1)+\"/\"+str(25000))"
   ]
  },
  {
   "cell_type": "code",
   "execution_count": 15,
   "metadata": {},
   "outputs": [
    {
     "data": {
      "image/png": "[encoded data removed]",
      "text/plain": [
       "<Figure size 432x288 with 1 Axes>"
      ]
     },
     "metadata": {
      "needs_background": "light"
     },
     "output_type": "display_data"
    },
    {
     "data": {
      "image/png": "[encoded data removed]",
      "text/plain": [
       "<Figure size 432x288 with 1 Axes>"
      ]
     },
     "metadata": {
      "needs_background": "light"
     },
     "output_type": "display_data"
    }
   ],
   "source": [
    "plt.imshow(np.reshape(test_keys[1,:], (1,16)))\n",
    "plt.show()\n",
    "plt.imshow(np.reshape(output_keys[1,:], (1,16)))\n",
    "plt.show()"
   ]
  },
  {
   "cell_type": "code",
   "execution_count": 19,
   "metadata": {},
   "outputs": [
    {
     "data": {
      "text/plain": [
       "<matplotlib.image.AxesImage at 0x28f150c30b8>"
      ]
     },
     "execution_count": 19,
     "metadata": {},
     "output_type": "execute_result"
    },
    {
     "data": {
      "image/png": "[encoded data removed]",
      "text/plain": [
       "<Figure size 432x288 with 1 Axes>"
      ]
     },
     "metadata": {
      "needs_background": "light"
     },
     "output_type": "display_data"
    }
   ],
   "source": [
    "plt.imshow((test_keys-output_keys)[:100,:])"
   ]
  },
  {
   "cell_type": "code",
   "execution_count": 21,
   "metadata": {},
   "outputs": [
    {
     "data": {
      "text/plain": [
       "0.7694198525150383"
      ]
     },
     "execution_count": 21,
     "metadata": {},
     "output_type": "execute_result"
    }
   ],
   "source": [
    "1 - (np.sum(np.abs(test_keys-output_keys))/np.sum(test_keys))"
   ]
  },
  {
   "cell_type": "code",
   "execution_count": 31,
   "metadata": {},
   "outputs": [
    {
     "data": {
      "image/png": "[encoded data removed]",
      "text/plain": [
       "<Figure size 432x288 with 2 Axes>"
      ]
     },
     "metadata": {
      "needs_background": "light"
     },
     "output_type": "display_data"
    }
   ],
   "source": [
    "plt.imshow(np.reshape(network.cgroups[0].getbiases()[:,0],(8,8)))\n",
    "plt.colorbar()\n",
    "plt.show()"
   ]
  },
  {
   "cell_type": "code",
   "execution_count": 25,
   "metadata": {},
   "outputs": [
    {
     "data": {
      "text/plain": [
       "(64, 16)"
      ]
     },
     "execution_count": 25,
     "metadata": {},
     "output_type": "execute_result"
    }
   ],
   "source": [
    "network.cgroups[0].npconnects.shape"
   ]
  },
  {
   "cell_type": "code",
   "execution_count": 32,
   "metadata": {},
   "outputs": [],
   "source": [
    "possibletypes = []\n",
    "for i in range(8):\n",
    "    sample = np.zeros((8,8))\n",
    "    sample[:,i] = 1\n",
    "    possibletypes.append(sample)\n",
    "for i in range(8):\n",
    "    sample = np.zeros((8,8))\n",
    "    sample[i,:] = 1\n",
    "    possibletypes.append(sample)"
   ]
  },
  {
   "cell_type": "code",
   "execution_count": 67,
   "metadata": {},
   "outputs": [
    {
     "data": {
      "image/png": "[encoded data removed]",
      "text/plain": [
       "<Figure size 432x288 with 2 Axes>"
      ]
     },
     "metadata": {
      "needs_background": "light"
     },
     "output_type": "display_data"
    }
   ],
   "source": [
    "outimages = []\n",
    "for j in range(16):\n",
    "    lowestmin = 64\n",
    "    outimage = np.zeros((8,8))\n",
    "    for i in possibletypes:\n",
    "        mem = np.reshape(network.cgroups[0].getbiases()[:,j],(8,8))\n",
    "        er = np.sum(np.abs(mem - i))\n",
    "        #print(er)\n",
    "        if (er < lowestmin):\n",
    "            lowestmin = er\n",
    "            outimage = np.abs(mem-i)\n",
    "    outimages.append(outimage)\n",
    "plt.imshow(outimages[4])\n",
    "plt.colorbar()\n",
    "plt.show()"
   ]
  },
  {
   "cell_type": "code",
   "execution_count": 71,
   "metadata": {},
   "outputs": [
    {
     "ename": "TypeError",
     "evalue": "colorbar() missing 1 required positional argument: 'mappable'",
     "output_type": "error",
     "traceback": [
      "\u001b[1;31m---------------------------------------------------------------------------\u001b[0m",
      "\u001b[1;31mTypeError\u001b[0m                                 Traceback (most recent call last)",
      "\u001b[1;32m<ipython-input-71-8978a9fe96dc>\u001b[0m in \u001b[0;36m<module>\u001b[1;34m\u001b[0m\n\u001b[0;32m      7\u001b[0m \u001b[0mfig\u001b[0m\u001b[1;33m.\u001b[0m\u001b[0mtight_layout\u001b[0m\u001b[1;33m(\u001b[0m\u001b[1;33m)\u001b[0m\u001b[1;33m\u001b[0m\u001b[0m\n\u001b[0;32m      8\u001b[0m \u001b[1;31m#plt.savefig(\"2020_07_07_bias_figure.png\")\u001b[0m\u001b[1;33m\u001b[0m\u001b[1;33m\u001b[0m\u001b[0m\n\u001b[1;32m----> 9\u001b[1;33m \u001b[0mfig\u001b[0m\u001b[1;33m.\u001b[0m\u001b[0mcolorbar\u001b[0m\u001b[1;33m(\u001b[0m\u001b[1;33m)\u001b[0m\u001b[1;33m\u001b[0m\u001b[0m\n\u001b[0m\u001b[0;32m     10\u001b[0m \u001b[0mplt\u001b[0m\u001b[1;33m.\u001b[0m\u001b[0mshow\u001b[0m\u001b[1;33m(\u001b[0m\u001b[1;33m)\u001b[0m\u001b[1;33m\u001b[0m\u001b[0m\n",
      "\u001b[1;31mTypeError\u001b[0m: colorbar() missing 1 required positional argument: 'mappable'"
     ]
    },
    {
     "data": {
      "image/png": "[encoded data removed]",
      "text/plain": [
       "<Figure size 432x288 with 16 Axes>"
      ]
     },
     "metadata": {
      "needs_background": "light"
     },
     "output_type": "display_data"
    }
   ],
   "source": [
    "fig=plt.figure()\n",
    "\n",
    "for node_num in range(len(foldiaklayer.nodes)):\n",
    "    fig.add_subplot(4,4,node_num+1)\n",
    "            \n",
    "    plt.imshow(outimages[node_num])\n",
    "fig.tight_layout()\n",
    "#plt.savefig(\"2020_07_07_bias_figure.png\")\n",
    "fig.colorbar()\n",
    "plt.show()"
   ]
  },
  {
   "cell_type": "code",
   "execution_count": 124,
   "metadata": {},
   "outputs": [
    {
     "data": {
      "image/png": "[encoded data removed]",
      "text/plain": [
       "<Figure size 432x288 with 2 Axes>"
      ]
     },
     "metadata": {},
     "output_type": "display_data"
    }
   ],
   "source": [
    "outimg = np.zeros((4*8,4*8))\n",
    "for i in range(4):\n",
    "    for j in range(4):\n",
    "        outimg[i*8:i*8+8,j*8:j*8+8] = outimages[i+(4*j)]\n",
    "plt.figure().patch.set_facecolor('white')\n",
    "plt.imshow(outimg)\n",
    "plt.colorbar()\n",
    "plt.yticks([i*8-0.5 for i in range(4)], [\"\" for i in range(4)])\n",
    "plt.xticks([i*8-0.5 for i in range(4)], [\"\" for i in range(4)])\n",
    "plt.gca().tick_params(axis='x', colors='white')\n",
    "plt.gca().tick_params(axis='y', colors='white')\n",
    "plt.grid(b=True, color='black', linestyle='-', linewidth=1, fillstyle='none')\n",
    "plt.savefig(\"2020_07_07_keys_error.png\", dpi=200)\n",
    "plt.show()"
   ]
  },
  {
   "cell_type": "code",
   "execution_count": 123,
   "metadata": {},
   "outputs": [
    {
     "data": {
      "image/png": "[encoded data removed]",
      "text/plain": [
       "<Figure size 432x288 with 2 Axes>"
      ]
     },
     "metadata": {},
     "output_type": "display_data"
    }
   ],
   "source": [
    "outimg = np.zeros((4*8,4*8))\n",
    "for i in range(4):\n",
    "    for j in range(4):\n",
    "        outimg[i*8:i*8+8,j*8:j*8+8] = np.reshape(network.cgroups[0].getbiases()[:,i+j*4], (8,8))\n",
    "plt.figure().patch.set_facecolor('white')\n",
    "plt.imshow(outimg)\n",
    "plt.colorbar()\n",
    "plt.yticks([i*8-0.5 for i in range(4)], [\"\" for i in range(4)])\n",
    "plt.xticks([i*8-0.5 for i in range(4)], [\"\" for i in range(4)])\n",
    "plt.gca().tick_params(axis='x', colors='white')\n",
    "plt.gca().tick_params(axis='y', colors='white')\n",
    "plt.grid(b=True, color='black', linestyle='-', linewidth=1, fillstyle='none')\n",
    "plt.savefig(\"2020_07_07_keys_biases.png\", dpi=200)\n",
    "plt.show()"
   ]
  },
  {
   "cell_type": "code",
   "execution_count": 129,
   "metadata": {},
   "outputs": [
    {
     "name": "stdout",
     "output_type": "stream",
     "text": [
      "Average error in memories:\n",
      "0.2578048938426633\n",
      "Average error in predictions:\n",
      "0.23058014748496172\n"
     ]
    }
   ],
   "source": [
    "print(\"Average error in memories:\")\n",
    "ersum = 0\n",
    "for i in outimages:\n",
    "    ersum += np.sum(i)\n",
    "print(ersum/(8*8*16))\n",
    "print(\"Average error in predictions:\")\n",
    "print(np.sum(np.abs(test_keys-output_keys))/np.sum(test_keys))"
   ]
  },
  {
   "cell_type": "code",
   "execution_count": null,
   "metadata": {},
   "outputs": [],
   "source": []
  }
 ],
 "metadata": {
  "kernelspec": {
   "display_name": "Python 3",
   "language": "python",
   "name": "python3"
  },
  "language_info": {
   "codemirror_mode": {
    "name": "ipython",
    "version": 3
   },
   "file_extension": ".py",
   "mimetype": "text/x-python",
   "name": "python",
   "nbconvert_exporter": "python",
   "pygments_lexer": "ipython3",
   "version": "3.6.6"
  }
 },
 "nbformat": 4,
 "nbformat_minor": 4
}
